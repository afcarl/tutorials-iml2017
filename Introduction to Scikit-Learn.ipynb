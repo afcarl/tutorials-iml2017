{
 "cells": [
  {
   "cell_type": "markdown",
   "metadata": {
    "deletable": true,
    "editable": true,
    "slideshow": {
     "slide_type": "slide"
    }
   },
   "source": [
    "<center>\n",
    "    <img src=\"img/scikit-learn-logo.png\" width=\"40%\" />\n",
    "    <br />\n",
    "    <h1>An introduction to Scikit-Learn</h1>\n",
    "    <br /><br />\n",
    "    Gilles Louppe (<a href=\"https://twitter.com/glouppe\">@glouppe</a>)\n",
    "    <br /><br />\n",
    "    New York University\n",
    "</center>"
   ]
  },
  {
   "cell_type": "markdown",
   "metadata": {
    "deletable": true,
    "editable": true,
    "slideshow": {
     "slide_type": "subslide"
    }
   },
   "source": [
    "## Prerequisites "
   ]
  },
  {
   "cell_type": "code",
   "execution_count": 1,
   "metadata": {
    "collapsed": false,
    "deletable": true,
    "editable": true,
    "slideshow": {
     "slide_type": "fragment"
    }
   },
   "outputs": [
    {
     "data": {
      "text/plain": [
       "42.0"
      ]
     },
     "execution_count": 1,
     "metadata": {},
     "output_type": "execute_result"
    }
   ],
   "source": [
    "# This is an Jupyter notebook, with executable Python code inside\n",
    "1764 ** 0.5"
   ]
  },
  {
   "cell_type": "markdown",
   "metadata": {
    "deletable": true,
    "editable": true,
    "slideshow": {
     "slide_type": "fragment"
    }
   },
   "source": [
    "Materials are all available on  <a href=\"https://github.com/glouppe/lectures-iccub-2016\">GitHub</a>."
   ]
  },
  {
   "cell_type": "markdown",
   "metadata": {
    "deletable": true,
    "editable": true,
    "slideshow": {
     "slide_type": "fragment"
    }
   },
   "source": [
    "Examples require a Python distribution with scientific packages:\n",
    "\n",
    "1. Jump to https://www.continuum.io/downloads and download the installer.\n",
    "\n",
    "2. `bash Anaconda2-4.2.0-Linux-x86_64.sh` (or whatever installer you picked)\n",
    "\n",
    "3. `conda install scikit-learn numpy scipy matplotlib jupyter pandas`\n",
    "\n",
    "4. You are ready to go!\n",
    "\n",
    "    "
   ]
  },
  {
   "cell_type": "code",
   "execution_count": 2,
   "metadata": {
    "collapsed": false,
    "deletable": true,
    "editable": true,
    "slideshow": {
     "slide_type": "skip"
    }
   },
   "outputs": [],
   "source": [
    "# Global imports and settings\n",
    "\n",
    "# Matplotlib\n",
    "%matplotlib inline\n",
    "from matplotlib import pyplot as plt\n",
    "plt.rcParams[\"figure.figsize\"] = (4, 4)\n",
    "plt.rcParams[\"figure.max_open_warning\"] = -1\n",
    "\n",
    "# Print options\n",
    "import numpy as np\n",
    "np.set_printoptions(precision=3)\n",
    "\n",
    "# Slideshow\n",
    "from notebook.services.config import ConfigManager\n",
    "cm = ConfigManager()\n",
    "cm.update('livereveal', {'width': 1440, 'height': 768, 'scroll': True, 'theme': 'simple'})\n",
    "\n",
    "# Silence warnings\n",
    "import warnings\n",
    "warnings.simplefilter(action=\"ignore\", category=FutureWarning)\n",
    "warnings.simplefilter(action=\"ignore\", category=UserWarning)\n",
    "warnings.simplefilter(action=\"ignore\", category=RuntimeWarning)"
   ]
  },
  {
   "cell_type": "code",
   "execution_count": 3,
   "metadata": {
    "collapsed": false,
    "deletable": true,
    "editable": true,
    "slideshow": {
     "slide_type": "skip"
    }
   },
   "outputs": [
    {
     "data": {
      "application/javascript": [
       "Reveal.addEventListener(\"slidechanged\", function(event){ window.location.hash = \"header\"; });"
      ],
      "text/plain": [
       "<IPython.core.display.Javascript object>"
      ]
     },
     "metadata": {},
     "output_type": "display_data"
    }
   ],
   "source": [
    "%%javascript\n",
    "Reveal.addEventListener(\"slidechanged\", function(event){ window.location.hash = \"header\"; });"
   ]
  },
  {
   "cell_type": "markdown",
   "metadata": {
    "deletable": true,
    "editable": true,
    "slideshow": {
     "slide_type": "subslide"
    }
   },
   "source": [
    "# Outline\n",
    "\n",
    "* Scikit-Learn and the scientific ecosystem in Python\n",
    "* Supervised learning\n",
    "* Transformers, pipelines and feature unions\n",
    "* Beyond building classifiers\n",
    "* Summary"
   ]
  },
  {
   "cell_type": "markdown",
   "metadata": {
    "deletable": true,
    "editable": true,
    "slideshow": {
     "slide_type": "slide"
    }
   },
   "source": [
    "# Scikit-Learn"
   ]
  },
  {
   "cell_type": "markdown",
   "metadata": {
    "deletable": true,
    "editable": true,
    "slideshow": {
     "slide_type": "subslide"
    }
   },
   "source": [
    "## Overview\n",
    "\n",
    "* Machine learning library written in __Python__\n",
    "* __Simple and efficient__, for both experts and non-experts\n",
    "* Classical, __well-established machine learning algorithms__\n",
    "* Shipped with <a href=\"http://scikit-learn.org/dev/documentation.html\">documentation</a> and <a href=\"http://scikit-learn.org/dev/auto_examples/index.html\">examples</a>\n",
    "* __BSD 3 license__"
   ]
  },
  {
   "cell_type": "markdown",
   "metadata": {
    "deletable": true,
    "editable": true,
    "slideshow": {
     "slide_type": "subslide"
    }
   },
   "source": [
    "## Community driven development\n",
    "\n",
    "- 20~ core developers (mostly researchers)\n",
    "- 700+ occasional contributors\n",
    "- __All working publicly together__ on [GitHub](https://github.com/scikit-learn/scikit-learn)\n",
    "- Emphasis on __keeping the project maintainable__\n",
    "    - Style consistency\n",
    "    - Unit-test coverage\n",
    "    - Documentation and examples\n",
    "    - Code review\n",
    "- Join us!"
   ]
  },
  {
   "cell_type": "markdown",
   "metadata": {
    "deletable": true,
    "editable": true,
    "slideshow": {
     "slide_type": "subslide"
    }
   },
   "source": [
    "## Python stack for data analysis\n",
    "\n",
    "The __open source__ Python ecosystem provides __a standalone, versatile and powerful scientific working environment__, including: [NumPy](http://numpy.org), [SciPy](http://scipy.org), [Jupyter](http://jupyter.org) [Matplotlib](http://matplotlib.org), [Pandas](http://pandas.pydata.org/), _and many others..._\n",
    "\n",
    "<center> \n",
    "<img src=\"img/ecosystem.png\" style=\"max-width: 60%; display: inline\" />\n",
    "</center>\n",
    "\n"
   ]
  },
  {
   "cell_type": "markdown",
   "metadata": {
    "deletable": true,
    "editable": true,
    "slideshow": {
     "slide_type": "subslide"
    }
   },
   "source": [
    "- Scikit-Learn builds upon NumPy and SciPy and __complements__ this scientific environment with machine learning algorithms;\n",
    "- By design, Scikit-Learn is __non-intrusive__, easy to use and easy to combine with other libraries;\n",
    "- Core algorithms are implemented in low-level languages."
   ]
  },
  {
   "cell_type": "markdown",
   "metadata": {
    "deletable": true,
    "editable": true,
    "slideshow": {
     "slide_type": "subslide"
    }
   },
   "source": [
    "## Algorithms"
   ]
  },
  {
   "cell_type": "markdown",
   "metadata": {
    "deletable": true,
    "editable": true,
    "slideshow": {
     "slide_type": "fragment"
    }
   },
   "source": [
    "__Supervised learning:__\n",
    "\n",
    "* Linear models (Ridge, Lasso, Elastic Net, ...)\n",
    "* Support Vector Machines\n",
    "* Tree-based methods (Random Forests, Bagging, GBRT, ...)\n",
    "* Nearest neighbors\n",
    "* Neural networks \n",
    "* Gaussian Processes\n",
    "* Feature selection"
   ]
  },
  {
   "cell_type": "markdown",
   "metadata": {
    "deletable": true,
    "editable": true,
    "slideshow": {
     "slide_type": "fragment"
    }
   },
   "source": [
    "__Unsupervised learning:__\n",
    "\n",
    "* Clustering (KMeans, Ward, ...)\n",
    "* Matrix decomposition (PCA, ICA, ...)\n",
    "* Density estimation\n",
    "* Outlier detection"
   ]
  },
  {
   "cell_type": "markdown",
   "metadata": {
    "deletable": true,
    "editable": true,
    "slideshow": {
     "slide_type": "fragment"
    }
   },
   "source": [
    "__Model selection and evaluation:__\n",
    "\n",
    "* Cross-validation\n",
    "* Grid-search\n",
    "* Lots of metrics\n",
    "\n",
    "_... and many more!_ (See our [Reference](http://scikit-learn.org/dev/modules/classes.html))"
   ]
  },
  {
   "cell_type": "markdown",
   "metadata": {
    "deletable": true,
    "editable": true,
    "slideshow": {
     "slide_type": "slide"
    }
   },
   "source": [
    "# Supervised learning"
   ]
  },
  {
   "cell_type": "markdown",
   "metadata": {
    "deletable": true,
    "editable": true,
    "slideshow": {
     "slide_type": "subslide"
    }
   },
   "source": [
    "## Problem statement\n",
    "\n",
    "<center>\n",
    "    <img src=\"img/problem.png\" />\n",
    "    Classification vs. regression\n",
    "</center>"
   ]
  },
  {
   "cell_type": "markdown",
   "metadata": {
    "deletable": true,
    "editable": true,
    "slideshow": {
     "slide_type": "subslide"
    }
   },
   "source": [
    "## Framework\n",
    "\n",
    "Data comes as a finite learning set ${\\cal L} = (X, y)$ where\n",
    "* Input samples are given as an array $X$ of shape (`n_samples` $\\times$ `n_features`), taking their values in ${\\cal X}$;\n",
    "* (Classification) Output values are given as an array $y$, taking _symbolic_ values in ${\\cal Y}$.\n",
    "* (Regression) Output values are given as an array $y$, taking _real_ values in ${\\cal Y}$.\n",
    "\n",
    "The goal of supervised classification is to build an estimator $f: {\\cal X} \\mapsto {\\cal Y}$.\n",
    "\n",
    "\n",
    "<center> \n",
    "<img src=\"img/f.png\" style=\"max-width: 80%; display: inline\" />\n",
    "</center>"
   ]
  },
  {
   "cell_type": "markdown",
   "metadata": {
    "deletable": true,
    "editable": true,
    "slideshow": {
     "slide_type": "subslide"
    }
   },
   "source": [
    "We are not interested in just any function $f$. \n",
    "\n",
    "We are looking for \n",
    "\n",
    "$$\n",
    "f^* = \\arg \\min_f Err(f) = \\mathbb{E}_{X,Y}[ L(Y, f(X)) ]\n",
    "$$\n",
    "\n",
    "where $L$ is a loss function, e.g., \n",
    "- the zero-one loss  $L(Y,\\hat{Y}) = 1(Y \\neq \\hat{Y})$ for classification;\n",
    "- the squared error $L(Y,\\hat{Y}) = (Y-\\hat{Y})^2$ for regression."
   ]
  },
  {
   "cell_type": "markdown",
   "metadata": {
    "deletable": true,
    "editable": true,
    "slideshow": {
     "slide_type": "subslide"
    }
   },
   "source": [
    "## Applications\n",
    "\n",
    "- Classifying signal from background events; \n",
    "- Diagnosing disease from symptoms;\n",
    "- Recognising cats in pictures;\n",
    "- Identifying body parts with cameras;\n",
    "- Predicting temperature for the next days;\n",
    "- ...\n",
    "  "
   ]
  },
  {
   "cell_type": "markdown",
   "metadata": {
    "deletable": true,
    "editable": true,
    "slideshow": {
     "slide_type": "subslide"
    }
   },
   "source": [
    "## Data \n",
    "\n",
    "- Input data = Numpy arrays or Scipy sparse matrices ;\n",
    "- Algorithms are expressed using high-level operations defined on matrices or vectors (similar to MATLAB) ;\n",
    "    - Leverage efficient low-leverage implementations ;\n",
    "    - Keep code short and readable. "
   ]
  },
  {
   "cell_type": "code",
   "execution_count": 4,
   "metadata": {
    "collapsed": false,
    "deletable": true,
    "editable": true,
    "slideshow": {
     "slide_type": "subslide"
    }
   },
   "outputs": [
    {
     "name": "stdout",
     "output_type": "stream",
     "text": [
      "[[ -2.613e+00   4.154e+00]\n",
      " [ -3.796e+00   5.192e+00]\n",
      " [ -8.640e+00  -2.462e-01]\n",
      " [  4.215e+00  -5.023e+00]\n",
      " [ -1.630e+00  -8.133e+00]\n",
      " [ -5.288e+00  -5.461e+00]\n",
      " [ -1.234e+00   5.818e+00]\n",
      " [ -3.504e+00  -9.988e-01]\n",
      " [ -8.279e+00  -3.335e+00]\n",
      " [ -1.262e+00  -8.627e+00]\n",
      " [ -5.488e+00   1.060e+00]\n",
      " [  4.009e+00  -2.453e+00]\n",
      " [  1.892e+00   1.974e+00]\n",
      " [  5.074e+00   1.073e+00]\n",
      " [ -4.651e+00   1.526e+00]\n",
      " [ -1.052e+00   1.392e+00]\n",
      " [  5.023e+00   1.805e+00]\n",
      " [ -4.818e+00   2.562e+00]\n",
      " [  3.323e-01  -4.008e+00]\n",
      " [ -2.569e+00   2.317e+00]\n",
      " [  8.589e+00  -8.237e-01]\n",
      " [ -6.389e+00  -5.042e+00]\n",
      " [  4.754e+00   1.848e+00]\n",
      " [ -1.359e+00   6.391e-02]\n",
      " [ -4.323e+00   5.774e-01]\n",
      " [ -3.376e+00   1.191e+00]\n",
      " [  8.680e+00   8.088e-01]\n",
      " [ -2.441e+00  -8.116e+00]\n",
      " [  9.812e+00   4.655e-01]\n",
      " [  8.076e+00  -1.239e+00]\n",
      " [  9.815e+00   3.570e+00]\n",
      " [ -3.280e+00   5.898e+00]\n",
      " [ -1.399e+00  -3.507e+00]\n",
      " [ -2.726e+00  -6.383e+00]\n",
      " [ -8.516e-01  -9.925e+00]\n",
      " [  1.806e+00  -3.237e+00]\n",
      " [  2.546e-01  -1.873e+00]\n",
      " [ -1.642e+00  -8.130e+00]\n",
      " [  1.703e+00   7.494e+00]\n",
      " [ -6.749e+00  -6.381e+00]\n",
      " [ -1.261e+00   4.997e+00]\n",
      " [ -1.668e+00  -5.991e+00]\n",
      " [ -2.658e+00   8.014e+00]\n",
      " [ -2.331e+00   5.005e+00]\n",
      " [  3.887e+00   1.841e+00]\n",
      " [  9.953e+00  -8.726e-01]\n",
      " [  2.219e+00   7.492e-01]\n",
      " [  3.710e+00  -3.254e+00]\n",
      " [  4.150e+00  -1.395e+00]\n",
      " [ -1.758e+00   2.531e-02]\n",
      " [ -2.995e+00  -1.863e+00]\n",
      " [ -2.463e+00  -2.743e+00]\n",
      " [ -2.285e+00  -4.268e+00]\n",
      " [  1.097e+00  -7.813e-01]\n",
      " [ -1.923e+00   1.047e-01]\n",
      " [ -9.316e+00  -1.199e+00]\n",
      " [ -1.817e+00  -1.794e+00]\n",
      " [ -9.601e-01  -3.516e+00]\n",
      " [ -5.404e+00  -5.878e+00]\n",
      " [ -1.333e+00  -1.236e+00]\n",
      " [ -8.168e+00  -2.172e+00]\n",
      " [  5.071e+00   1.986e+00]\n",
      " [ -1.177e+00   8.433e+00]\n",
      " [  9.358e+00  -1.832e+00]\n",
      " [ -2.215e+00  -8.747e+00]\n",
      " [  4.943e+00  -2.069e+00]\n",
      " [  9.346e+00   3.586e+00]\n",
      " [ -3.954e+00   3.235e+00]\n",
      " [ -5.060e+00   5.277e+00]\n",
      " [ -5.750e+00  -4.506e+00]\n",
      " [  5.908e+00  -1.892e+00]\n",
      " [  9.426e-01   4.945e-01]\n",
      " [ -3.148e+00  -3.586e+00]\n",
      " [ -7.010e+00  -5.740e+00]\n",
      " [  4.244e+00  -5.603e+00]\n",
      " [ -5.968e+00   3.721e+00]\n",
      " [ -4.595e-01  -3.965e+00]\n",
      " [  1.072e+00   7.191e-01]\n",
      " [ -9.049e-02  -1.878e+00]\n",
      " [  9.520e+00   3.975e+00]\n",
      " [  5.155e-01  -9.774e+00]\n",
      " [ -2.166e+00   7.090e+00]\n",
      " [  4.217e+00   1.060e+00]\n",
      " [ -9.360e+00  -1.797e+00]\n",
      " [ -2.491e+00  -5.009e+00]\n",
      " [ -1.958e+00  -4.482e+00]\n",
      " [  4.566e+00  -3.849e+00]\n",
      " [ -9.478e+00  -5.955e-02]\n",
      " [ -1.794e+00   2.965e+00]\n",
      " [ -2.126e+00  -3.455e+00]\n",
      " [ -4.751e+00   3.625e+00]\n",
      " [  3.846e+00   6.306e+00]\n",
      " [  2.731e+00  -4.078e+00]\n",
      " [ -1.538e+00   8.291e+00]\n",
      " [  1.482e+00  -1.323e+00]\n",
      " [ -1.372e+00   7.446e+00]\n",
      " [ -2.207e+00   1.302e+00]\n",
      " [  2.782e+00   6.755e+00]\n",
      " [ -4.466e+00   4.859e+00]\n",
      " [ -4.989e+00   4.624e-01]\n",
      " [  9.826e+00   2.398e-01]\n",
      " [ -4.821e+00  -9.516e-01]\n",
      " [ -1.746e+00   7.892e+00]\n",
      " [ -1.846e+00  -1.794e+00]\n",
      " [  5.913e+00  -2.633e+00]\n",
      " [  9.348e-01   8.803e-01]\n",
      " [  3.177e+00  -2.794e+00]\n",
      " [ -5.189e+00  -4.328e+00]\n",
      " [ -2.035e+00  -9.043e-01]\n",
      " [  2.564e+00   7.877e+00]\n",
      " [ -2.075e+00   8.672e-03]\n",
      " [  4.522e+00   3.167e+00]\n",
      " [ -8.708e+00  -1.514e+00]\n",
      " [  1.215e+00   6.995e+00]\n",
      " [  4.440e+00  -2.963e+00]\n",
      " [  3.649e+00  -1.465e+00]\n",
      " [  2.844e+00  -1.912e+00]\n",
      " [  8.148e+00   2.232e-01]\n",
      " [ -1.899e+00  -2.619e+00]\n",
      " [  2.566e+00   5.226e+00]\n",
      " [ -5.342e+00   1.775e+00]\n",
      " [ -3.282e+00   6.450e+00]\n",
      " [  8.898e+00  -3.457e-01]\n",
      " [ -6.221e+00  -7.754e+00]\n",
      " [ -3.881e+00  -5.984e+00]\n",
      " [  2.491e-01  -4.310e+00]\n",
      " [  4.424e+00  -4.277e+00]\n",
      " [ -5.687e+00   6.939e-01]\n",
      " [ -1.656e+00   5.085e+00]\n",
      " [  7.810e-01   1.186e+00]\n",
      " [ -3.517e-01   8.010e-01]\n",
      " [  4.946e+00  -1.750e+00]\n",
      " [  2.977e+00  -3.415e+00]\n",
      " [ -2.023e+00  -2.859e+00]\n",
      " [ -4.179e+00   2.465e+00]\n",
      " [ -2.148e+00  -4.110e+00]\n",
      " [ -1.992e+00  -6.578e+00]\n",
      " [  4.545e+00  -2.740e+00]\n",
      " [  1.929e+00   5.789e+00]\n",
      " [  9.570e+00  -1.721e+00]\n",
      " [ -3.244e+00   3.507e+00]\n",
      " [ -2.792e+00  -5.533e+00]\n",
      " [ -4.371e+00   2.668e+00]\n",
      " [ -5.798e+00   2.057e+00]\n",
      " [ -9.321e-01  -3.335e+00]\n",
      " [  3.858e+00   8.261e-01]\n",
      " [ -1.000e+00   8.518e+00]\n",
      " [ -1.915e+00   6.277e+00]\n",
      " [  3.662e+00   7.149e+00]\n",
      " [ -5.236e-01  -4.069e+00]\n",
      " [ -8.054e+00  -2.505e+00]\n",
      " [  1.057e+01   2.278e+00]\n",
      " [ -1.562e+00  -2.897e-01]\n",
      " [ -7.106e+00  -1.474e+00]\n",
      " [  5.324e+00  -3.189e+00]\n",
      " [ -1.151e+00  -5.054e+00]\n",
      " [  5.785e+00  -1.897e+00]\n",
      " [ -8.221e+00  -7.090e+00]\n",
      " [ -1.961e+00   5.261e+00]\n",
      " [ -9.382e+00  -3.173e-01]\n",
      " [ -8.579e+00  -2.492e+00]\n",
      " [ -2.208e+00   5.004e+00]\n",
      " [ -8.472e+00  -1.212e+00]\n",
      " [ -3.239e+00   4.298e+00]\n",
      " [ -5.028e-01  -2.741e+00]\n",
      " [ -5.364e+00  -5.497e+00]\n",
      " [  8.464e+00   6.715e-01]\n",
      " [ -3.329e+00   5.030e+00]\n",
      " [ -2.534e+00  -9.689e+00]\n",
      " [ -2.530e+00   3.451e+00]\n",
      " [  1.592e+00   2.421e+00]\n",
      " [ -5.282e+00   2.204e+00]\n",
      " [ -4.892e+00   4.232e+00]\n",
      " [ -2.794e+00   4.455e+00]\n",
      " [ -1.595e+00  -3.484e+00]\n",
      " [ -3.585e+00  -6.057e+00]\n",
      " [ -5.731e+00   2.746e+00]\n",
      " [ -2.264e+00   7.156e-01]\n",
      " [  1.115e-01  -1.038e+01]\n",
      " [ -1.460e+00  -2.417e+00]\n",
      " [  2.848e+00   5.328e+00]\n",
      " [  4.658e+00   2.496e+00]\n",
      " [ -7.753e+00  -7.129e+00]\n",
      " [  3.825e+00  -1.736e+00]\n",
      " [  3.092e+00  -5.883e+00]\n",
      " [ -1.858e+00  -1.098e+00]\n",
      " [  1.928e-01   2.043e-01]\n",
      " [ -1.150e+00   5.921e+00]\n",
      " [ -3.385e+00   3.911e+00]\n",
      " [  5.974e+00  -4.461e+00]\n",
      " [ -4.091e-01   8.717e-01]\n",
      " [  7.565e+00  -1.895e+00]\n",
      " [ -2.976e+00   5.401e+00]\n",
      " [  4.016e+00   3.266e+00]\n",
      " [ -8.090e-01  -8.600e+00]\n",
      " [  3.998e+00  -1.398e+00]\n",
      " [ -4.565e+00  -6.181e+00]\n",
      " [  3.975e+00  -4.510e+00]\n",
      " [ -8.789e+00  -7.798e+00]\n",
      " [ -1.248e+00  -2.824e+00]\n",
      " [  1.051e+01   4.066e+00]\n",
      " [  9.144e+00  -9.172e-02]\n",
      " [ -5.084e+00   6.471e-01]\n",
      " [ -5.891e+00   2.269e+00]\n",
      " [  1.383e+00   7.062e-01]\n",
      " [  2.093e-01  -2.042e+00]\n",
      " [ -7.222e+00  -9.458e-01]\n",
      " [  3.731e+00  -4.513e+00]\n",
      " [  3.197e+00  -5.490e+00]\n",
      " [  2.936e+00   7.806e+00]\n",
      " [  3.370e+00  -1.370e+00]\n",
      " [ -1.841e+00  -3.983e+00]\n",
      " [ -6.677e+00  -6.387e+00]\n",
      " [ -1.057e+00  -4.463e+00]\n",
      " [ -3.362e+00  -5.593e+00]\n",
      " [  9.243e+00  -3.276e-01]\n",
      " [ -9.979e-01  -3.084e+00]\n",
      " [ -9.340e+00  -2.368e-01]\n",
      " [ -4.410e+00   2.576e+00]\n",
      " [ -4.721e+00  -6.425e+00]\n",
      " [  8.134e+00   6.043e-01]\n",
      " [  8.378e+00   3.821e+00]\n",
      " [  6.322e+00  -3.864e+00]\n",
      " [  4.469e+00  -1.812e+00]\n",
      " [ -9.518e+00  -5.520e-01]\n",
      " [  9.260e+00   4.088e+00]\n",
      " [ -1.322e+00  -3.050e+00]\n",
      " [  4.820e+00  -2.522e+00]\n",
      " [  2.262e+00  -3.494e+00]\n",
      " [ -1.739e+00  -9.254e+00]\n",
      " [  3.124e+00  -6.005e+00]\n",
      " [ -3.655e+00   4.519e+00]\n",
      " [ -2.463e+00  -5.280e+00]\n",
      " [ -9.215e+00  -5.708e-03]\n",
      " [ -1.612e+00  -5.760e-01]\n",
      " [ -2.590e+00  -3.388e+00]\n",
      " [ -1.850e+00   3.678e+00]\n",
      " [ -1.521e+00   6.755e+00]\n",
      " [  8.015e+00   4.450e+00]\n",
      " [ -5.050e-01   4.230e+00]\n",
      " [ -3.790e+00   4.094e+00]\n",
      " [ -2.372e+00  -4.687e+00]\n",
      " [ -4.141e+00   5.221e+00]\n",
      " [  4.404e+00   8.297e+00]\n",
      " [  4.769e+00   3.816e+00]\n",
      " [ -3.186e+00   6.280e+00]\n",
      " [  5.630e+00   1.432e+00]\n",
      " [ -4.340e+00  -5.562e+00]\n",
      " [ -1.890e+00  -5.025e+00]\n",
      " [ -2.994e+00   5.122e+00]\n",
      " [  1.573e+00   5.538e+00]\n",
      " [  3.814e+00   1.925e+00]\n",
      " [  4.340e+00   4.207e+00]\n",
      " [  8.192e+00   4.123e-01]\n",
      " [ -1.775e+00  -1.957e+00]\n",
      " [ -4.670e-01  -2.821e+00]\n",
      " [  5.451e-02  -2.477e+00]\n",
      " [  5.531e+00   1.155e-01]\n",
      " [ -4.880e+00   1.358e+00]\n",
      " [  5.337e+00  -4.715e+00]\n",
      " [  3.959e+00  -3.208e+00]\n",
      " [ -3.854e+00   7.561e-01]\n",
      " [ -3.419e+00   6.458e+00]\n",
      " [  2.127e-01  -2.357e+00]\n",
      " [ -4.640e+00   7.154e+00]\n",
      " [ -1.575e+00  -8.697e+00]\n",
      " [  1.826e-01   1.049e+00]\n",
      " [ -7.363e-01  -2.840e+00]\n",
      " [ -2.626e+00   4.914e+00]\n",
      " [  1.104e+01  -8.041e-01]\n",
      " [  4.846e+00   6.674e-03]\n",
      " [  9.968e+00   1.228e+00]\n",
      " [ -1.633e+00  -3.342e+00]\n",
      " [ -5.739e+00   4.742e-01]\n",
      " [ -3.114e+00   3.116e-02]\n",
      " [  4.268e+00  -4.289e+00]\n",
      " [  1.027e+00  -2.766e+00]\n",
      " [ -1.078e+00  -1.423e+00]\n",
      " [  5.347e+00  -3.470e+00]\n",
      " [ -1.761e+00   4.451e+00]\n",
      " [  2.882e+00   6.559e-02]\n",
      " [ -5.419e+00  -6.106e+00]\n",
      " [ -7.395e+00  -3.134e+00]\n",
      " [ -1.814e+00   7.378e+00]\n",
      " [ -4.192e-01   1.204e+00]\n",
      " [  9.340e+00   2.281e+00]\n",
      " [ -1.648e+00  -1.019e+00]\n",
      " [ -9.079e+00  -1.158e+00]\n",
      " [ -2.953e+00  -1.920e+00]\n",
      " [ -1.135e+00   5.960e+00]\n",
      " [  8.430e+00   1.036e+00]\n",
      " [  9.792e+00   3.667e+00]\n",
      " [  5.402e+00   9.469e-01]\n",
      " [ -6.920e+00   1.580e+00]\n",
      " [ -2.073e+00  -3.492e+00]\n",
      " [  3.656e-01   1.566e+00]\n",
      " [  5.657e+00  -1.205e+00]\n",
      " [  5.055e+00  -2.436e+00]\n",
      " [  1.007e-02   8.589e+00]\n",
      " [ -4.787e+00   1.690e+00]\n",
      " [ -2.142e+00   7.911e+00]\n",
      " [  5.092e+00  -5.374e+00]\n",
      " [  1.019e+01   4.276e+00]\n",
      " [  9.007e+00   1.219e+00]\n",
      " [ -2.048e+00   5.737e+00]\n",
      " [ -2.269e+00  -7.087e+00]\n",
      " [ -5.133e-01   8.697e+00]\n",
      " [  3.841e+00  -4.095e+00]\n",
      " [ -6.295e+00   2.584e+00]\n",
      " [ -1.025e+00   3.051e+00]\n",
      " [  1.032e+01   3.098e+00]\n",
      " [ -2.728e+00   3.675e+00]\n",
      " [ -1.311e+00   4.661e+00]\n",
      " [ -1.788e+00   4.065e+00]\n",
      " [ -4.313e+00  -2.411e-01]\n",
      " [  9.601e+00  -9.626e-01]\n",
      " [ -3.841e+00   5.332e+00]\n",
      " [  4.398e+00  -5.108e+00]\n",
      " [ -6.548e+00  -3.372e-01]\n",
      " [  4.070e-02   2.886e-01]\n",
      " [ -1.797e+00   7.558e+00]\n",
      " [ -3.015e+00  -4.662e+00]\n",
      " [ -3.337e+00   6.638e+00]\n",
      " [  2.618e+00   6.893e+00]\n",
      " [  1.384e+00  -1.799e-01]\n",
      " [  5.078e+00   3.554e+00]\n",
      " [  4.663e+00  -3.943e+00]\n",
      " [  1.065e+01   3.502e+00]\n",
      " [  5.669e+00  -3.957e+00]\n",
      " [ -1.142e+00  -5.932e+00]\n",
      " [  4.722e+00   3.827e+00]\n",
      " [ -3.426e+00  -2.336e+00]\n",
      " [ -1.729e+00  -1.219e+00]\n",
      " [ -1.702e+00  -2.827e+00]\n",
      " [ -1.314e-01  -3.132e+00]\n",
      " [  4.792e+00  -6.594e-02]\n",
      " [ -6.021e-01   8.478e+00]\n",
      " [ -6.291e+00  -5.427e+00]\n",
      " [  5.673e+00  -5.075e+00]\n",
      " [ -1.291e+00  -6.286e-01]\n",
      " [  9.368e+00   3.765e+00]\n",
      " [  4.523e+00  -8.334e-01]\n",
      " [  3.729e+00   1.566e+00]\n",
      " [  9.609e+00   3.490e+00]\n",
      " [  9.353e+00  -1.075e+00]\n",
      " [ -5.677e+00  -4.999e+00]\n",
      " [  7.049e+00   2.255e+00]\n",
      " [ -2.181e+00   3.703e+00]\n",
      " [ -6.219e+00   1.348e+00]\n",
      " [ -4.073e+00   9.988e-01]\n",
      " [  9.370e+00   3.335e+00]\n",
      " [  3.840e+00  -2.516e+00]\n",
      " [  1.047e+00   5.038e-01]\n",
      " [  5.340e+00  -2.984e+00]\n",
      " [  2.364e+00   6.822e+00]\n",
      " [ -2.974e+00  -5.134e+00]\n",
      " [ -2.263e+00   5.242e+00]\n",
      " [ -1.780e+00  -5.493e-01]\n",
      " [ -8.014e-01  -3.458e+00]\n",
      " [ -2.138e+00   4.545e+00]\n",
      " [ -3.316e+00  -5.496e+00]\n",
      " [ -4.654e+00   2.481e+00]\n",
      " [ -7.246e+00  -2.700e+00]\n",
      " [  4.697e+00  -2.149e+00]\n",
      " [  1.182e+01   4.385e+00]\n",
      " [  3.613e-01  -2.238e+00]\n",
      " [  8.750e+00   2.322e+00]\n",
      " [  2.562e+00   2.307e-01]\n",
      " [ -1.940e-01   3.797e-01]\n",
      " [ -5.237e+00  -6.348e+00]\n",
      " [ -3.875e-01  -2.317e+00]\n",
      " [ -5.283e+00  -8.357e-01]\n",
      " [  3.526e+00  -4.403e+00]\n",
      " [ -3.124e+00  -8.719e+00]\n",
      " [  9.529e+00   2.781e+00]\n",
      " [ -6.012e+00   2.832e+00]\n",
      " [ -4.211e+00   5.249e+00]\n",
      " [  1.232e+00  -4.951e-01]\n",
      " [ -6.362e+00   1.525e+00]\n",
      " [ -1.491e+00  -8.956e-02]\n",
      " [  1.318e+00   1.222e+00]\n",
      " [ -8.378e+00   5.356e-01]\n",
      " [ -4.295e+00  -4.360e+00]\n",
      " [ -1.692e+00  -6.258e+00]\n",
      " [ -8.982e+00  -5.232e+00]\n",
      " [ -2.129e+00  -9.737e+00]\n",
      " [ -1.121e+00   6.681e+00]\n",
      " [  3.538e+00  -3.703e+00]\n",
      " [  5.590e+00  -3.470e+00]\n",
      " [ -2.496e+00   4.015e+00]\n",
      " [ -3.117e+00  -9.935e+00]\n",
      " [  4.810e+00  -2.458e+00]\n",
      " [ -1.064e+00  -3.850e+00]\n",
      " [  3.756e+00   7.332e+00]\n",
      " [  8.511e+00   1.961e-01]\n",
      " [  8.681e+00  -1.098e+00]\n",
      " [  4.643e+00  -1.254e+00]\n",
      " [ -1.801e+00   8.881e+00]\n",
      " [ -5.037e+00  -5.791e-01]\n",
      " [  8.376e-01  -1.737e+00]\n",
      " [ -8.724e-01   4.042e-01]\n",
      " [ -2.896e+00  -3.268e+00]\n",
      " [ -3.512e+00   3.201e+00]\n",
      " [ -1.391e+00   7.819e+00]\n",
      " [ -9.573e+00   3.036e-01]\n",
      " [ -2.003e+00   5.610e+00]\n",
      " [ -6.198e+00   1.528e+00]\n",
      " [ -2.602e+00   1.936e+00]\n",
      " [  4.410e+00  -1.732e+00]\n",
      " [  2.437e+00   2.821e+00]\n",
      " [  2.686e+00   7.621e+00]\n",
      " [ -2.907e-01  -9.163e+00]\n",
      " [  4.757e-01  -6.776e-02]\n",
      " [ -2.371e+00   3.752e+00]\n",
      " [ -9.740e-02  -8.671e+00]\n",
      " [  3.778e+00   6.918e+00]\n",
      " [  8.833e-01  -3.578e+00]\n",
      " [  2.479e-01   6.299e+00]\n",
      " [  4.487e+00  -2.913e+00]\n",
      " [ -3.480e+00  -9.395e+00]\n",
      " [  2.357e+00   8.491e+00]\n",
      " [  3.769e+00  -4.146e+00]\n",
      " [  4.019e+00   7.205e+00]\n",
      " [ -4.702e+00   1.350e+00]\n",
      " [  8.854e+00   3.700e+00]\n",
      " [ -7.663e+00  -1.840e+00]\n",
      " [ -2.186e+00  -6.750e+00]\n",
      " [ -1.586e+00  -6.027e+00]\n",
      " [  2.635e+00  -5.316e+00]\n",
      " [  2.581e+00   7.215e+00]\n",
      " [ -5.367e+00  -6.663e+00]\n",
      " [  3.157e+00  -3.482e+00]\n",
      " [ -4.387e-01  -9.814e+00]\n",
      " [  3.943e+00   7.963e+00]\n",
      " [  4.903e+00   2.268e+00]\n",
      " [ -7.301e+00  -1.343e+00]\n",
      " [ -1.552e+00  -8.995e+00]\n",
      " [  6.088e-01  -2.511e+00]\n",
      " [ -2.934e+00   2.271e+00]\n",
      " [  9.938e+00   3.262e+00]\n",
      " [ -2.451e+00  -9.200e+00]\n",
      " [ -3.150e+00   5.267e+00]\n",
      " [ -4.294e+00   3.928e+00]\n",
      " [  7.097e+00  -1.157e-01]\n",
      " [  1.896e+00   7.663e+00]\n",
      " [ -6.330e+00  -7.073e+00]\n",
      " [  8.946e+00   5.309e+00]\n",
      " [  2.912e+00   1.314e+00]\n",
      " [ -2.894e+00   1.212e+00]\n",
      " [ -2.249e+00   9.046e+00]\n",
      " [ -1.878e+00   3.121e+00]\n",
      " [ -3.592e-01   1.021e-01]\n",
      " [  5.664e+00   2.521e+00]\n",
      " [ -1.708e+00  -8.446e+00]\n",
      " [ -2.994e+00   2.066e+00]\n",
      " [ -6.709e+00  -4.338e-01]\n",
      " [  5.185e+00  -4.966e+00]\n",
      " [ -8.705e+00  -1.326e+00]\n",
      " [ -2.564e+00  -6.288e+00]\n",
      " [ -4.858e+00   3.876e+00]\n",
      " [  5.231e+00  -3.697e+00]\n",
      " [ -2.513e-01  -2.205e-01]\n",
      " [ -4.245e+00   3.596e+00]\n",
      " [  9.274e+00   3.479e+00]\n",
      " [ -3.813e+00   4.352e+00]\n",
      " [ -9.450e-01   9.289e+00]\n",
      " [  3.615e+00  -5.363e+00]\n",
      " [  6.448e+00   1.137e+00]\n",
      " [ -1.775e+00  -3.872e+00]\n",
      " [ -6.184e+00  -4.889e+00]\n",
      " [  5.767e+00  -1.681e+00]\n",
      " [  4.279e+00  -1.899e+00]\n",
      " [  6.098e+00  -1.825e+00]\n",
      " [ -7.607e+00  -6.229e+00]\n",
      " [ -6.834e+00   6.938e-01]\n",
      " [  3.340e+00  -1.613e+00]\n",
      " [ -2.585e+00   6.614e+00]\n",
      " [ -6.460e+00  -7.375e-02]\n",
      " [  3.566e+00  -1.408e+00]\n",
      " [ -4.450e+00   1.305e+00]\n",
      " [ -1.898e+00   6.093e+00]\n",
      " [ -1.001e-01   5.401e+00]\n",
      " [ -1.070e+00   3.980e-01]\n",
      " [  4.618e+00   7.180e+00]\n",
      " [  1.144e+00   6.096e-01]\n",
      " [ -1.492e+00  -4.554e+00]\n",
      " [ -3.160e+00  -5.473e+00]\n",
      " [  9.437e+00   5.906e-01]\n",
      " [  4.908e+00  -2.039e+00]\n",
      " [ -5.180e+00  -7.042e+00]\n",
      " [  4.483e+00  -7.828e-02]\n",
      " [  8.360e+00   3.145e+00]\n",
      " [ -2.001e+00  -8.062e+00]\n",
      " [  2.215e+00   8.209e+00]\n",
      " [ -5.525e+00   3.677e+00]\n",
      " [  3.050e+00  -3.994e+00]\n",
      " [  5.425e+00  -3.208e+00]\n",
      " [ -7.313e+00  -6.739e+00]\n",
      " [  4.820e+00  -3.699e+00]\n",
      " [ -4.575e-01   1.205e+00]]\n",
      "['r' 'r' 'b' 'b' 'r']\n"
     ]
    }
   ],
   "source": [
    "# Generate data\n",
    "from sklearn.datasets import make_blobs\n",
    "X, y = make_blobs(n_samples=500, centers=20, random_state=123)\n",
    "labels = [\"b\", \"r\"]\n",
    "y = np.take(labels, (y < 10))\n",
    "print(X) \n",
    "print(y[:5])"
   ]
  },
  {
   "cell_type": "code",
   "execution_count": 5,
   "metadata": {
    "collapsed": false,
    "deletable": true,
    "editable": true,
    "slideshow": {
     "slide_type": "fragment"
    }
   },
   "outputs": [
    {
     "name": "stdout",
     "output_type": "stream",
     "text": [
      "(500, 2)\n",
      "(500,)\n"
     ]
    }
   ],
   "source": [
    "# X is a 2 dimensional array, with 1000 rows and 2 columns\n",
    "print(X.shape)\n",
    " \n",
    "# y is a vector of 1000 elements\n",
    "print(y.shape)"
   ]
  },
  {
   "cell_type": "code",
   "execution_count": 6,
   "metadata": {
    "collapsed": false,
    "deletable": true,
    "editable": true,
    "slideshow": {
     "slide_type": "fragment"
    }
   },
   "outputs": [
    {
     "name": "stdout",
     "output_type": "stream",
     "text": [
      "[[-3.796  5.192]\n",
      " [-8.64  -0.246]\n",
      " [ 4.215 -5.023]]\n",
      "[[-2.613  4.154]\n",
      " [-3.796  5.192]\n",
      " [-8.64  -0.246]\n",
      " [ 4.215 -5.023]\n",
      " [-1.63  -8.133]]\n",
      "[]\n",
      "[[-8.64  -0.246]\n",
      " [ 4.215 -5.023]\n",
      " [-1.234  5.818]\n",
      " [-8.279 -3.335]\n",
      " [ 4.009 -2.453]]\n"
     ]
    }
   ],
   "source": [
    "# Rows and columns can be accessed with lists, slices or masks\n",
    "print(X[[1, 2, 3]])     # rows 1, 2 and 3\n",
    "print(X[:5])            # 5 first rows\n",
    "print(X[500:510, 0])    # values from row 500 to row 510 at column 0\n",
    "print(X[y == \"b\"][:5])  # 5 first rows for which y is \"b\""
   ]
  },
  {
   "cell_type": "code",
   "execution_count": 7,
   "metadata": {
    "collapsed": false,
    "deletable": true,
    "editable": true,
    "slideshow": {
     "slide_type": "subslide"
    }
   },
   "outputs": [
    {
     "data": {
      "image/png": "[encoded data removed]",
      "text/plain": [
       "<matplotlib.figure.Figure at 0x7f90052026d8>"
      ]
     },
     "metadata": {},
     "output_type": "display_data"
    }
   ],
   "source": [
    "# Plot\n",
    "for label in labels:\n",
    "    mask = (y == label)\n",
    "    plt.scatter(X[mask, 0], X[mask, 1], c=label, linewidths=0)\n",
    "plt.xlim(-10, 10)\n",
    "plt.ylim(-10, 10)\n",
    "plt.show()"
   ]
  },
  {
   "cell_type": "markdown",
   "metadata": {
    "deletable": true,
    "editable": true,
    "slideshow": {
     "slide_type": "subslide"
    }
   },
   "source": [
    "## A simple and unified API\n",
    "\n",
    "All learning algorithms in scikit-learn share a uniform and limited API consisting of complementary interfaces:\n",
    "\n",
    "- an `estimator` interface for building and fitting models;\n",
    "- a `predictor` interface for making predictions;\n",
    "- a `transformer` interface for converting data.\n",
    "\n",
    "Goal: enforce a simple and consistent API to __make it trivial to swap or plug algorithms__. "
   ]
  },
  {
   "cell_type": "markdown",
   "metadata": {
    "deletable": true,
    "editable": true,
    "slideshow": {
     "slide_type": "subslide"
    }
   },
   "source": [
    "<center> \n",
    "        <img src=\"img/supervised_scikit_learn.png\" style=\"max-width: 80%; display: inline\" /><br />\n",
    "</center>"
   ]
  },
  {
   "cell_type": "markdown",
   "metadata": {
    "deletable": true,
    "editable": true,
    "slideshow": {
     "slide_type": "subslide"
    }
   },
   "source": [
    "### Estimators"
   ]
  },
  {
   "cell_type": "code",
   "execution_count": 8,
   "metadata": {
    "collapsed": true,
    "deletable": true,
    "editable": true
   },
   "outputs": [],
   "source": [
    "class Estimator(object):\n",
    "    def fit(self, X, y=None):\n",
    "        \"\"\"Fits estimator to data.\"\"\"\n",
    "        # set state of ``self``\n",
    "        # ...\n",
    "        return self"
   ]
  },
  {
   "cell_type": "code",
   "execution_count": 9,
   "metadata": {
    "collapsed": false,
    "deletable": true,
    "editable": true,
    "slideshow": {
     "slide_type": "subslide"
    }
   },
   "outputs": [
    {
     "data": {
      "text/plain": [
       "KNeighborsClassifier(algorithm='auto', leaf_size=30, metric='minkowski',\n",
       "           metric_params=None, n_jobs=1, n_neighbors=5, p=2,\n",
       "           weights='uniform')"
      ]
     },
     "execution_count": 9,
     "metadata": {},
     "output_type": "execute_result"
    }
   ],
   "source": [
    "# Import the nearest neighbor class\n",
    "from sklearn.neighbors import KNeighborsClassifier  # Change this to try \n",
    "                                                    # something else\n",
    "\n",
    "# Set hyper-parameters, for controlling algorithm\n",
    "clf = KNeighborsClassifier(n_neighbors=5)\n",
    "\n",
    "# Learn a model from training data\n",
    "clf.fit(X, y)"
   ]
  },
  {
   "cell_type": "code",
   "execution_count": 10,
   "metadata": {
    "collapsed": false,
    "deletable": true,
    "editable": true,
    "slideshow": {
     "slide_type": "fragment"
    }
   },
   "outputs": [
    {
     "data": {
      "text/plain": [
       "<sklearn.neighbors.kd_tree.KDTree at 0x3c92648>"
      ]
     },
     "execution_count": 10,
     "metadata": {},
     "output_type": "execute_result"
    }
   ],
   "source": [
    "# Estimator state is stored in instance attributes\n",
    "clf._tree"
   ]
  },
  {
   "cell_type": "markdown",
   "metadata": {
    "deletable": true,
    "editable": true,
    "slideshow": {
     "slide_type": "subslide"
    }
   },
   "source": [
    "### Predictors"
   ]
  },
  {
   "cell_type": "code",
   "execution_count": 11,
   "metadata": {
    "collapsed": false,
    "deletable": true,
    "editable": true,
    "slideshow": {
     "slide_type": "fragment"
    }
   },
   "outputs": [
    {
     "name": "stdout",
     "output_type": "stream",
     "text": [
      "['r' 'r' 'b' 'r' 'r']\n"
     ]
    }
   ],
   "source": [
    "# Make predictions  \n",
    "print(clf.predict(X[:5])) "
   ]
  },
  {
   "cell_type": "code",
   "execution_count": 12,
   "metadata": {
    "collapsed": false,
    "deletable": true,
    "editable": true,
    "slideshow": {
     "slide_type": "fragment"
    }
   },
   "outputs": [
    {
     "name": "stdout",
     "output_type": "stream",
     "text": [
      "[[ 0.   1. ]\n",
      " [ 0.   1. ]\n",
      " [ 1.   0. ]\n",
      " [ 0.2  0.8]\n",
      " [ 0.   1. ]]\n"
     ]
    }
   ],
   "source": [
    "# Compute (approximate) class probabilities\n",
    "print(clf.predict_proba(X[:5]))"
   ]
  },
  {
   "cell_type": "code",
   "execution_count": 13,
   "metadata": {
    "collapsed": false,
    "deletable": true,
    "editable": true,
    "slideshow": {
     "slide_type": "subslide"
    }
   },
   "outputs": [
    {
     "data": {
      "image/png": "[encoded data removed]",
      "text/plain": [
       "<matplotlib.figure.Figure at 0x7f9030554828>"
      ]
     },
     "metadata": {},
     "output_type": "display_data"
    }
   ],
   "source": [
    "from tutorial import plot_surface    \n",
    "plot_surface(clf, X, y)"
   ]
  },
  {
   "cell_type": "code",
   "execution_count": 14,
   "metadata": {
    "collapsed": false,
    "deletable": true,
    "editable": true,
    "slideshow": {
     "slide_type": "subslide"
    }
   },
   "outputs": [
    {
     "data": {
      "image/png": "[encoded data removed]",
      "text/plain": [
       "<matplotlib.figure.Figure at 0x7f9000a5f048>"
      ]
     },
     "metadata": {},
     "output_type": "display_data"
    }
   ],
   "source": [
    "from tutorial import plot_histogram    \n",
    "plot_histogram(clf, X, y)"
   ]
  },
  {
   "cell_type": "markdown",
   "metadata": {
    "deletable": true,
    "editable": true,
    "slideshow": {
     "slide_type": "subslide"
    }
   },
   "source": [
    "## Classifier zoo"
   ]
  },
  {
   "cell_type": "markdown",
   "metadata": {
    "deletable": true,
    "editable": true,
    "slideshow": {
     "slide_type": "subslide"
    }
   },
   "source": [
    "### Decision trees\n",
    "\n",
    "Idea: greedily build a partition of the input space using cuts orthogonal to feature axes."
   ]
  },
  {
   "cell_type": "code",
   "execution_count": 15,
   "metadata": {
    "collapsed": false,
    "deletable": true,
    "editable": true
   },
   "outputs": [
    {
     "data": {
      "image/png": "[encoded data removed]",
      "text/plain": [
       "<matplotlib.figure.Figure at 0x7f9000759668>"
      ]
     },
     "metadata": {},
     "output_type": "display_data"
    }
   ],
   "source": [
    "from tutorial import plot_clf\n",
    "from sklearn.tree import DecisionTreeClassifier \n",
    "clf = DecisionTreeClassifier()\n",
    "clf.fit(X, y)\n",
    "plot_clf(clf, X, y)"
   ]
  },
  {
   "cell_type": "markdown",
   "metadata": {
    "deletable": true,
    "editable": true,
    "slideshow": {
     "slide_type": "subslide"
    }
   },
   "source": [
    "### Random Forests\n",
    "\n",
    "Idea: Build several decision trees with controlled randomness and average their decisions."
   ]
  },
  {
   "cell_type": "code",
   "execution_count": 16,
   "metadata": {
    "collapsed": false,
    "deletable": true,
    "editable": true
   },
   "outputs": [
    {
     "data": {
      "image/png": "[encoded data removed]",
      "text/plain": [
       "<matplotlib.figure.Figure at 0x7f90008fd940>"
      ]
     },
     "metadata": {},
     "output_type": "display_data"
    }
   ],
   "source": [
    "from sklearn.ensemble import RandomForestClassifier \n",
    "clf = RandomForestClassifier(n_estimators=500)\n",
    "# from sklearn.ensemble import ExtraTreesClassifier \n",
    "# clf = ExtraTreesClassifier(n_estimators=500)\n",
    "clf.fit(X, y)\n",
    "plot_clf(clf, X, y)"
   ]
  },
  {
   "cell_type": "markdown",
   "metadata": {
    "collapsed": true,
    "deletable": true,
    "editable": true,
    "slideshow": {
     "slide_type": "subslide"
    }
   },
   "source": [
    "### Support vector machines\n",
    "\n",
    "Idea: Find the hyperplane which has the largest distance to the nearest training points of any class."
   ]
  },
  {
   "cell_type": "code",
   "execution_count": 17,
   "metadata": {
    "collapsed": false,
    "deletable": true,
    "editable": true
   },
   "outputs": [
    {
     "data": {
      "image/png": "[encoded data removed]",
      "text/plain": [
       "<matplotlib.figure.Figure at 0x7f8fff873f28>"
      ]
     },
     "metadata": {},
     "output_type": "display_data"
    }
   ],
   "source": [
    "from sklearn.svm import SVC\n",
    "clf = SVC(kernel=\"linear\")  # try kernel=\"rbf\" instead\n",
    "clf.fit(X, y)\n",
    "plot_clf(clf, X, y)"
   ]
  },
  {
   "cell_type": "markdown",
   "metadata": {
    "deletable": true,
    "editable": true,
    "slideshow": {
     "slide_type": "subslide"
    }
   },
   "source": [
    "### Multi-layer perceptron\n",
    "\n",
    "Idea: a multi-layer perceptron is a circuit of non-linear combinations of the data."
   ]
  },
  {
   "cell_type": "code",
   "execution_count": 18,
   "metadata": {
    "collapsed": false,
    "deletable": true,
    "editable": true
   },
   "outputs": [
    {
     "data": {
      "image/png": "[encoded data removed]",
      "text/plain": [
       "<matplotlib.figure.Figure at 0x7f8ffe37fe48>"
      ]
     },
     "metadata": {},
     "output_type": "display_data"
    }
   ],
   "source": [
    "from sklearn.neural_network import MLPClassifier\n",
    "clf = MLPClassifier(hidden_layer_sizes=(100, 100, 100), \n",
    "                    activation=\"tanh\", \n",
    "                    learning_rate=\"invscaling\")\n",
    "clf.fit(X, y)\n",
    "plot_clf(clf, X, y)"
   ]
  },
  {
   "cell_type": "markdown",
   "metadata": {
    "deletable": true,
    "editable": true,
    "slideshow": {
     "slide_type": "subslide"
    }
   },
   "source": [
    "### Gaussian Processes\n",
    "\n",
    "Idea: a gaussian process is a distribution over functions $f$, such that $f(\\mathbf{x})$, for any set $\\mathbf{x}$ of points, is gaussian distributed."
   ]
  },
  {
   "cell_type": "code",
   "execution_count": 19,
   "metadata": {
    "collapsed": false,
    "deletable": true,
    "editable": true,
    "slideshow": {
     "slide_type": "-"
    }
   },
   "outputs": [
    {
     "data": {
      "image/png": "[encoded data removed]",
      "text/plain": [
       "<matplotlib.figure.Figure at 0x7f8fff89ea90>"
      ]
     },
     "metadata": {},
     "output_type": "display_data"
    }
   ],
   "source": [
    "from sklearn.gaussian_process import GaussianProcessClassifier\n",
    "clf = GaussianProcessClassifier()\n",
    "clf.fit(X, y)\n",
    "plot_clf(clf, X, y)         "
   ]
  },
  {
   "cell_type": "markdown",
   "metadata": {
    "deletable": true,
    "editable": true,
    "slideshow": {
     "slide_type": "slide"
    }
   },
   "source": [
    "# Transformers, pipelines and feature unions"
   ]
  },
  {
   "cell_type": "markdown",
   "metadata": {
    "deletable": true,
    "editable": true,
    "slideshow": {
     "slide_type": "subslide"
    }
   },
   "source": [
    "## Transformers\n",
    "\n",
    "- Classification (or regression) is often only one or the last step of a long and complicated process;\n",
    "- In most cases, input data needs to be cleaned, massaged or extended before being fed to a learning algorithm;\n",
    "- For this purpose, Scikit-Learn provides the ``transformer`` API."
   ]
  },
  {
   "cell_type": "code",
   "execution_count": 20,
   "metadata": {
    "collapsed": true,
    "deletable": true,
    "editable": true,
    "slideshow": {
     "slide_type": "subslide"
    }
   },
   "outputs": [],
   "source": [
    "class Transformer(object):    \n",
    "    def fit(self, X, y=None):\n",
    "        \"\"\"Fits estimator to data.\"\"\"\n",
    "        # set state of ``self``\n",
    "        return self\n",
    "    \n",
    "    def transform(self, X):\n",
    "        \"\"\"Transform X into Xt.\"\"\"\n",
    "        # transform X in some way to produce Xt\n",
    "        return Xt\n",
    "    \n",
    "    # Shortcut\n",
    "    def fit_transform(self, X, y=None):\n",
    "        self.fit(X, y)\n",
    "        Xt = self.transform(X)\n",
    "        return Xt"
   ]
  },
  {
   "cell_type": "markdown",
   "metadata": {
    "deletable": true,
    "editable": true,
    "slideshow": {
     "slide_type": "subslide"
    }
   },
   "source": [
    "## Transformer zoo"
   ]
  },
  {
   "cell_type": "code",
   "execution_count": 21,
   "metadata": {
    "collapsed": false,
    "deletable": true,
    "editable": true
   },
   "outputs": [
    {
     "data": {
      "image/png": "[encoded data removed]",
      "text/plain": [
       "<matplotlib.figure.Figure at 0x7f8fff9e75f8>"
      ]
     },
     "metadata": {},
     "output_type": "display_data"
    }
   ],
   "source": [
    "# Load digits data\n",
    "from sklearn.datasets import load_digits\n",
    "from sklearn.model_selection import train_test_split\n",
    "digits = load_digits()\n",
    "X, y = digits.data, digits.target\n",
    "X_train, X_test, y_train, y_test = train_test_split(X, y, random_state=0)\n",
    "\n",
    "# Plot\n",
    "sample_id = 42\n",
    "plt.imshow(X[sample_id].reshape((8, 8)), interpolation=\"nearest\", cmap=plt.cm.Blues)\n",
    "plt.title(\"y = %d\" % y[sample_id])\n",
    "plt.show()"
   ]
  },
  {
   "cell_type": "markdown",
   "metadata": {
    "deletable": true,
    "editable": true,
    "slideshow": {
     "slide_type": "subslide"
    }
   },
   "source": [
    "### Scalers and other normalizers"
   ]
  },
  {
   "cell_type": "code",
   "execution_count": 22,
   "metadata": {
    "collapsed": false,
    "deletable": true,
    "editable": true
   },
   "outputs": [
    {
     "name": "stdout",
     "output_type": "stream",
     "text": [
      "Mean (before scaling) = 4.89212138085\n",
      "Mean (after scaling) = -2.30781326574e-18\n"
     ]
    }
   ],
   "source": [
    "from sklearn.preprocessing import StandardScaler\n",
    "tf = StandardScaler()\n",
    "tf.fit(X_train, y_train)\n",
    "Xt_train = tf.transform(X_train)  \n",
    "print(\"Mean (before scaling) =\", np.mean(X_train))\n",
    "print(\"Mean (after scaling) =\", np.mean(Xt_train))\n",
    "\n",
    "# Shortcut: Xt = tf.fit_transform(X)\n",
    "# See also Binarizer, MinMaxScaler, Normalizer, ..."
   ]
  },
  {
   "cell_type": "code",
   "execution_count": 23,
   "metadata": {
    "collapsed": false,
    "deletable": true,
    "editable": true,
    "slideshow": {
     "slide_type": "fragment"
    }
   },
   "outputs": [
    {
     "name": "stdout",
     "output_type": "stream",
     "text": [
      "Without scaling = 0.486666666667\n",
      "With scaling = 0.984444444444\n"
     ]
    }
   ],
   "source": [
    "# Scaling is critical for some algorithms\n",
    "from sklearn.svm import SVC\n",
    "clf = SVC()\n",
    "print(\"Without scaling =\", clf.fit(X_train, y_train).score(X_test, y_test))\n",
    "print(\"With scaling =\", clf.fit(tf.transform(X_train), y_train).score(tf.transform(X_test), y_test))"
   ]
  },
  {
   "cell_type": "markdown",
   "metadata": {
    "deletable": true,
    "editable": true,
    "slideshow": {
     "slide_type": "subslide"
    }
   },
   "source": [
    "### Feature selection"
   ]
  },
  {
   "cell_type": "code",
   "execution_count": 24,
   "metadata": {
    "collapsed": false,
    "deletable": true,
    "editable": true
   },
   "outputs": [
    {
     "name": "stdout",
     "output_type": "stream",
     "text": [
      "Shape = (1347, 10)\n"
     ]
    },
    {
     "data": {
      "image/png": "[encoded data removed]",
      "text/plain": [
       "<matplotlib.figure.Figure at 0x7f9000824048>"
      ]
     },
     "metadata": {},
     "output_type": "display_data"
    }
   ],
   "source": [
    "# Select the 10 top features, as ranked using ANOVA F-score\n",
    "from sklearn.feature_selection import SelectKBest, f_classif\n",
    "tf = SelectKBest(score_func=f_classif, k=10)\n",
    "Xt = tf.fit_transform(X_train, y_train)\n",
    "print(\"Shape =\", Xt.shape)\n",
    "\n",
    "# Plot support\n",
    "plt.imshow(tf.get_support().reshape((8, 8)), interpolation=\"nearest\", cmap=plt.cm.Blues)\n",
    "plt.show()"
   ]
  },
  {
   "cell_type": "markdown",
   "metadata": {
    "deletable": true,
    "editable": true,
    "slideshow": {
     "slide_type": "subslide"
    }
   },
   "source": [
    "### Feature selection (cont.)"
   ]
  },
  {
   "cell_type": "code",
   "execution_count": 25,
   "metadata": {
    "collapsed": false,
    "deletable": true,
    "editable": true,
    "slideshow": {
     "slide_type": "fragment"
    }
   },
   "outputs": [
    {
     "name": "stdout",
     "output_type": "stream",
     "text": [
      "Fitting estimator with 64 features.\n",
      "Fitting estimator with 63 features.\n",
      "Fitting estimator with 62 features.\n",
      "Fitting estimator with 61 features.\n",
      "Fitting estimator with 60 features.\n",
      "Fitting estimator with 59 features.\n",
      "Fitting estimator with 58 features.\n",
      "Fitting estimator with 57 features.\n",
      "Fitting estimator with 56 features.\n",
      "Fitting estimator with 55 features.\n",
      "Fitting estimator with 54 features.\n",
      "Fitting estimator with 53 features.\n",
      "Fitting estimator with 52 features.\n",
      "Fitting estimator with 51 features.\n",
      "Fitting estimator with 50 features.\n",
      "Fitting estimator with 49 features.\n",
      "Fitting estimator with 48 features.\n",
      "Fitting estimator with 47 features.\n",
      "Fitting estimator with 46 features.\n",
      "Fitting estimator with 45 features.\n",
      "Fitting estimator with 44 features.\n",
      "Fitting estimator with 43 features.\n",
      "Fitting estimator with 42 features.\n",
      "Fitting estimator with 41 features.\n",
      "Fitting estimator with 40 features.\n",
      "Fitting estimator with 39 features.\n",
      "Fitting estimator with 38 features.\n",
      "Fitting estimator with 37 features.\n",
      "Fitting estimator with 36 features.\n",
      "Fitting estimator with 35 features.\n",
      "Fitting estimator with 34 features.\n",
      "Fitting estimator with 33 features.\n",
      "Fitting estimator with 32 features.\n",
      "Fitting estimator with 31 features.\n",
      "Fitting estimator with 30 features.\n",
      "Fitting estimator with 29 features.\n",
      "Fitting estimator with 28 features.\n",
      "Fitting estimator with 27 features.\n",
      "Fitting estimator with 26 features.\n",
      "Fitting estimator with 25 features.\n",
      "Fitting estimator with 24 features.\n",
      "Fitting estimator with 23 features.\n",
      "Fitting estimator with 22 features.\n",
      "Fitting estimator with 21 features.\n",
      "Fitting estimator with 20 features.\n",
      "Fitting estimator with 19 features.\n",
      "Fitting estimator with 18 features.\n",
      "Fitting estimator with 17 features.\n",
      "Fitting estimator with 16 features.\n",
      "Fitting estimator with 15 features.\n",
      "Fitting estimator with 14 features.\n",
      "Fitting estimator with 13 features.\n",
      "Fitting estimator with 12 features.\n",
      "Fitting estimator with 11 features.\n",
      "Shape = (1347, 10)\n"
     ]
    },
    {
     "data": {
      "image/png": "[encoded data removed]",
      "text/plain": [
       "<matplotlib.figure.Figure at 0x7f900081e320>"
      ]
     },
     "metadata": {},
     "output_type": "display_data"
    }
   ],
   "source": [
    "# Feature selection using backward elimination\n",
    "from sklearn.feature_selection import RFE\n",
    "from sklearn.ensemble import RandomForestClassifier\n",
    "tf = RFE(RandomForestClassifier(), n_features_to_select=10, verbose=1)\n",
    "Xt = tf.fit_transform(X_train, y_train)\n",
    "print(\"Shape =\", Xt.shape)\n",
    "\n",
    "# Plot support\n",
    "plt.imshow(tf.get_support().reshape((8, 8)), interpolation=\"nearest\", cmap=plt.cm.Blues)\n",
    "plt.show()"
   ]
  },
  {
   "cell_type": "markdown",
   "metadata": {
    "deletable": true,
    "editable": true,
    "slideshow": {
     "slide_type": "subslide"
    }
   },
   "source": [
    "### Decomposition, factorization or embeddings"
   ]
  },
  {
   "cell_type": "code",
   "execution_count": 26,
   "metadata": {
    "collapsed": false,
    "deletable": true,
    "editable": true
   },
   "outputs": [
    {
     "data": {
      "image/png": "[encoded data removed]",
      "text/plain": [
       "<matplotlib.figure.Figure at 0x7f8ffd6b44e0>"
      ]
     },
     "metadata": {},
     "output_type": "display_data"
    }
   ],
   "source": [
    "# Compute decomposition\n",
    "# from sklearn.decomposition import PCA\n",
    "from sklearn.manifold import TSNE\n",
    "tf = TSNE(n_components=2)\n",
    "Xt_train = tf.fit_transform(X_train)\n",
    "\n",
    "# Plot\n",
    "plt.scatter(Xt_train[:, 0], Xt_train[:, 1], c=y_train, linewidths=0)\n",
    "plt.show()\n",
    "\n",
    "# See also: KernelPCA, NMF, FastICA, Kernel approximations, \n",
    "#           manifold learning, etc"
   ]
  },
  {
   "cell_type": "markdown",
   "metadata": {
    "deletable": true,
    "editable": true,
    "slideshow": {
     "slide_type": "subslide"
    }
   },
   "source": [
    "### Function transformer"
   ]
  },
  {
   "cell_type": "code",
   "execution_count": 27,
   "metadata": {
    "collapsed": false,
    "deletable": true,
    "editable": true
   },
   "outputs": [
    {
     "name": "stdout",
     "output_type": "stream",
     "text": [
      "[  0.   0.   5.  13.   9.   1.   0.   0.   0.   0.  13.  15.  10.  15.   5.\n",
      "   0.   0.   3.  15.   2.   0.  11.   8.   0.   0.   4.  12.   0.   0.   8.\n",
      "   8.   0.   0.   5.   8.   0.   0.   9.   8.   0.   0.   4.  11.   0.   1.\n",
      "  12.   7.   0.   0.   2.  14.   5.  10.  12.   0.   0.   0.   0.   6.  13.\n",
      "  10.   0.   0.   0.]\n",
      "[  1.   1.   6.  14.  10.   2.   1.   1.   1.   1.  14.  16.  11.  16.   6.\n",
      "   1.   1.   4.  16.   3.   1.  12.   9.   1.   1.   5.  13.   1.   1.   9.\n",
      "   9.   1.   1.   6.   9.   1.   1.  10.   9.   1.   1.   5.  12.   1.   2.\n",
      "  13.   8.   1.   1.   3.  15.   6.  11.  13.   1.   1.   1.   1.   7.  14.\n",
      "  11.   1.   1.   1.]\n"
     ]
    }
   ],
   "source": [
    "from sklearn.preprocessing import FunctionTransformer\n",
    "\n",
    "def increment(X):\n",
    "    return X + 1\n",
    "\n",
    "tf = FunctionTransformer(func=increment)\n",
    "Xt = tf.fit_transform(X)\n",
    "print(X[0])\n",
    "print(Xt[0])"
   ]
  },
  {
   "cell_type": "markdown",
   "metadata": {
    "deletable": true,
    "editable": true,
    "slideshow": {
     "slide_type": "subslide"
    }
   },
   "source": [
    "## Pipelines\n",
    "\n",
    "Transformers can be chained in sequence to form a pipeline."
   ]
  },
  {
   "cell_type": "code",
   "execution_count": 28,
   "metadata": {
    "collapsed": false,
    "deletable": true,
    "editable": true
   },
   "outputs": [
    {
     "data": {
      "text/plain": [
       "Pipeline(steps=[('standardscaler', StandardScaler(copy=True, with_mean=True, with_std=True)), ('selectkbest', SelectKBest(k=10, score_func=<function f_classif at 0x7f900093cf28>))])"
      ]
     },
     "execution_count": 28,
     "metadata": {},
     "output_type": "execute_result"
    }
   ],
   "source": [
    "from sklearn.pipeline import make_pipeline\n",
    "from sklearn.preprocessing import StandardScaler\n",
    "from sklearn.feature_selection import SelectKBest, f_classif\n",
    "\n",
    "# Chain transformers to build a new transformer\n",
    "tf = make_pipeline(StandardScaler(), \n",
    "                   SelectKBest(score_func=f_classif, k=10))\n",
    "tf.fit(X_train, y_train)"
   ]
  },
  {
   "cell_type": "code",
   "execution_count": 29,
   "metadata": {
    "collapsed": false,
    "deletable": true,
    "editable": true,
    "slideshow": {
     "slide_type": "fragment"
    }
   },
   "outputs": [
    {
     "name": "stdout",
     "output_type": "stream",
     "text": [
      "Mean = -1.37150045507e-17\n",
      "Shape = (1347, 10)\n"
     ]
    }
   ],
   "source": [
    "Xt_train = tf.transform(X_train)\n",
    "print(\"Mean =\", np.mean(Xt_train))\n",
    "print(\"Shape =\", Xt_train.shape)"
   ]
  },
  {
   "cell_type": "code",
   "execution_count": 30,
   "metadata": {
    "collapsed": false,
    "deletable": true,
    "editable": true,
    "slideshow": {
     "slide_type": "subslide"
    }
   },
   "outputs": [
    {
     "name": "stdout",
     "output_type": "stream",
     "text": [
      "[[ 0.   0.   0.8  0.   0.   0.   0.   0.2  0.   0. ]\n",
      " [ 0.   0.   0.   0.   0.   0.   0.   0.   1.   0. ]\n",
      " [ 0.   0.   0.8  0.1  0.   0.   0.   0.1  0.   0. ]\n",
      " [ 0.   0.   0.   0.   0.   0.   1.   0.   0.   0. ]\n",
      " [ 0.   0.   0.   0.   0.   0.   1.   0.   0.   0. ]]\n"
     ]
    }
   ],
   "source": [
    "# Chain transformers + a classifier to build a new classifier\n",
    "clf = make_pipeline(StandardScaler(), \n",
    "                    SelectKBest(score_func=f_classif, k=10), \n",
    "                    RandomForestClassifier())\n",
    "clf.fit(X_train, y_train)\n",
    "print(clf.predict_proba(X_test)[:5])"
   ]
  },
  {
   "cell_type": "code",
   "execution_count": 31,
   "metadata": {
    "collapsed": false,
    "deletable": true,
    "editable": true,
    "slideshow": {
     "slide_type": "subslide"
    }
   },
   "outputs": [
    {
     "name": "stdout",
     "output_type": "stream",
     "text": [
      "K = 10\n"
     ]
    }
   ],
   "source": [
    "# Hyper-parameters can be accessed using step names\n",
    "print(\"K =\", clf.get_params()[\"selectkbest__k\"])"
   ]
  },
  {
   "cell_type": "code",
   "execution_count": 32,
   "metadata": {
    "collapsed": false,
    "deletable": true,
    "editable": true
   },
   "outputs": [
    {
     "data": {
      "text/plain": [
       "{'randomforestclassifier': RandomForestClassifier(bootstrap=True, class_weight=None, criterion='gini',\n",
       "             max_depth=None, max_features='auto', max_leaf_nodes=None,\n",
       "             min_impurity_split=1e-07, min_samples_leaf=1,\n",
       "             min_samples_split=2, min_weight_fraction_leaf=0.0,\n",
       "             n_estimators=10, n_jobs=1, oob_score=False, random_state=None,\n",
       "             verbose=0, warm_start=False),\n",
       " 'selectkbest': SelectKBest(k=10, score_func=<function f_classif at 0x7f900093cf28>),\n",
       " 'standardscaler': StandardScaler(copy=True, with_mean=True, with_std=True)}"
      ]
     },
     "execution_count": 32,
     "metadata": {},
     "output_type": "execute_result"
    }
   ],
   "source": [
    "clf.named_steps"
   ]
  },
  {
   "cell_type": "code",
   "execution_count": 33,
   "metadata": {
    "collapsed": false,
    "deletable": true,
    "editable": true,
    "slideshow": {
     "slide_type": "fragment"
    }
   },
   "outputs": [
    {
     "name": "stdout",
     "output_type": "stream",
     "text": [
      "Best params = {'selectkbest__k': 50, 'randomforestclassifier__max_features': 0.25}\n"
     ]
    }
   ],
   "source": [
    "from sklearn.model_selection import GridSearchCV\n",
    "grid = GridSearchCV(clf, \n",
    "                    param_grid={\"selectkbest__k\": [1, 10, 20, 30, 40, 50],\n",
    "                                \"randomforestclassifier__max_features\": [0.1, 0.25, 0.5]})\n",
    "grid.fit(X_train, y_train)\n",
    "\n",
    "print(\"Best params =\", grid.best_params_)"
   ]
  },
  {
   "cell_type": "markdown",
   "metadata": {
    "deletable": true,
    "editable": true,
    "slideshow": {
     "slide_type": "subslide"
    }
   },
   "source": [
    "## Feature unions\n",
    "\n",
    "Similarly, transformers can be applied in parallel to transform data in union."
   ]
  },
  {
   "cell_type": "markdown",
   "metadata": {
    "deletable": true,
    "editable": true,
    "slideshow": {
     "slide_type": "subslide"
    }
   },
   "source": [
    "## Nested composition\n",
    "\n",
    "Since pipelines and unions are themselves estimators, they can be composed into nested structures."
   ]
  },
  {
   "cell_type": "code",
   "execution_count": 34,
   "metadata": {
    "collapsed": false,
    "deletable": true,
    "editable": true,
    "slideshow": {
     "slide_type": "fragment"
    }
   },
   "outputs": [
    {
     "data": {
      "text/plain": [
       "Pipeline(steps=[('featureunion', FeatureUnion(n_jobs=1,\n",
       "       transformer_list=[('functiontransformer', FunctionTransformer(accept_sparse=False,\n",
       "          func=<function <lambda> at 0x7f8ffd5dbea0>, inv_kw_args=None,\n",
       "          inverse_func=None, kw_args=None, pass_y=False, validate=True)), ('pca', PCA(copy=...=True, solver='adam', tol=0.0001, validation_fraction=0.1,\n",
       "       verbose=False, warm_start=False))])"
      ]
     },
     "execution_count": 34,
     "metadata": {},
     "output_type": "execute_result"
    }
   ],
   "source": [
    "from sklearn.decomposition import PCA\n",
    "from sklearn.ensemble import RandomForestClassifier\n",
    "from sklearn.neural_network import MLPClassifier\n",
    "from sklearn.pipeline import make_union\n",
    "\n",
    "clf = make_pipeline(\n",
    "    # Build features\n",
    "    make_union(\n",
    "        FunctionTransformer(func=lambda X: X), # Identity\n",
    "        PCA(),\n",
    "    ), \n",
    "    # Select the best features\n",
    "    RFE(RandomForestClassifier(), n_features_to_select=10),\n",
    "    # Train\n",
    "    MLPClassifier()\n",
    ")\n",
    "\n",
    "clf.fit(X_train, y_train)"
   ]
  },
  {
   "cell_type": "markdown",
   "metadata": {
    "deletable": true,
    "editable": true,
    "slideshow": {
     "slide_type": "slide"
    }
   },
   "source": [
    "# Beyond building classifiers"
   ]
  },
  {
   "cell_type": "markdown",
   "metadata": {
    "deletable": true,
    "editable": true,
    "slideshow": {
     "slide_type": "fragment"
    }
   },
   "source": [
    "- (Quantile) Regression\n",
    "- Clustering\n",
    "- Density estimation\n",
    "- Feature learning\n",
    "- Outlier detection\n",
    "- ..."
   ]
  },
  {
   "cell_type": "markdown",
   "metadata": {
    "deletable": true,
    "editable": true,
    "slideshow": {
     "slide_type": "subslide"
    }
   },
   "source": [
    "## Example: Kernel Density estimation"
   ]
  },
  {
   "cell_type": "code",
   "execution_count": 35,
   "metadata": {
    "collapsed": true,
    "deletable": true,
    "editable": true
   },
   "outputs": [],
   "source": [
    "# Load the data\n",
    "from sklearn.datasets import load_digits\n",
    "digits = load_digits()\n",
    "X = digits.data"
   ]
  },
  {
   "cell_type": "code",
   "execution_count": 36,
   "metadata": {
    "collapsed": false,
    "deletable": true,
    "editable": true
   },
   "outputs": [
    {
     "name": "stdout",
     "output_type": "stream",
     "text": [
      "Best bandwidth: 3.59\n"
     ]
    }
   ],
   "source": [
    "from sklearn.neighbors import KernelDensity\n",
    "from sklearn.decomposition import PCA\n",
    "from sklearn.model_selection import GridSearchCV\n",
    "\n",
    "# Project the 64-dimensional data to a lower dimension\n",
    "pca = PCA(n_components=15, whiten=False)\n",
    "X = pca.fit_transform(X)\n",
    "\n",
    "# Use grid search cross-validation to optimize the bandwidth\n",
    "params = {'bandwidth': np.logspace(-1, 1, 100)}\n",
    "grid = GridSearchCV(KernelDensity(), params)\n",
    "grid.fit(X)\n",
    "\n",
    "print(\"Best bandwidth: %.2f\" % grid.best_estimator_.bandwidth)"
   ]
  },
  {
   "cell_type": "code",
   "execution_count": 37,
   "metadata": {
    "collapsed": true,
    "deletable": true,
    "editable": true
   },
   "outputs": [],
   "source": [
    "# Use the best estimator to compute the kernel density estimate\n",
    "kde = grid.best_estimator_\n",
    "\n",
    "# Sample 44 new points from the data\n",
    "new_data = kde.sample(44, random_state=0)\n",
    "new_data = pca.inverse_transform(new_data)"
   ]
  },
  {
   "cell_type": "code",
   "execution_count": 38,
   "metadata": {
    "collapsed": false,
    "deletable": true,
    "editable": true
   },
   "outputs": [
    {
     "data": {
      "image/png": "[encoded data removed]",
      "text/plain": [
       "<matplotlib.figure.Figure at 0x7f90009d8f60>"
      ]
     },
     "metadata": {},
     "output_type": "display_data"
    }
   ],
   "source": [
    "# Turn data into a 4x11 grid\n",
    "new_data = new_data.reshape((4, 11, -1))\n",
    "real_data = digits.data[:44].reshape((4, 11, -1))\n",
    "\n",
    "# Plot real digits and resampled digits\n",
    "fig, ax = plt.subplots(9, 11, subplot_kw=dict(xticks=[], yticks=[]))\n",
    "for j in range(11):\n",
    "    ax[4, j].set_visible(False)\n",
    "    for i in range(4):\n",
    "        im = ax[i, j].imshow(real_data[i, j].reshape((8, 8)),\n",
    "                             cmap=plt.cm.binary, interpolation='nearest')\n",
    "        im.set_clim(0, 16)\n",
    "        im = ax[i + 5, j].imshow(new_data[i, j].reshape((8, 8)),\n",
    "                                 cmap=plt.cm.binary, interpolation='nearest')\n",
    "        im.set_clim(0, 16)\n",
    "\n",
    "ax[0, 5].set_title('Selection from the input data')\n",
    "ax[5, 5].set_title('\"New\" digits drawn from the kernel density model')\n",
    "plt.show()"
   ]
  },
  {
   "cell_type": "markdown",
   "metadata": {
    "deletable": true,
    "editable": true,
    "slideshow": {
     "slide_type": "slide"
    }
   },
   "source": [
    "# Summary\n",
    "\n",
    "- Scikit-Learn provides essential tools for machine learning. \n",
    "- It is more than training classifiers!\n",
    "- It integrates within a larger Python scientific ecosystem.\n",
    "- Try it for yourself!"
   ]
  },
  {
   "cell_type": "code",
   "execution_count": 39,
   "metadata": {
    "collapsed": false,
    "deletable": true,
    "editable": true,
    "slideshow": {
     "slide_type": "subslide"
    }
   },
   "outputs": [
    {
     "name": "stdout",
     "output_type": "stream",
     "text": [
      "Object `questions` not found.\n"
     ]
    }
   ],
   "source": [
    "questions?"
   ]
  }
 ],
 "metadata": {
  "anaconda-cloud": {},
  "celltoolbar": "Slideshow",
  "hide_input": false,
  "kernelspec": {
   "display_name": "Python [default]",
   "language": "python",
   "name": "python3"
  },
  "language_info": {
   "codemirror_mode": {
    "name": "ipython",
    "version": 3
   },
   "file_extension": ".py",
   "mimetype": "text/x-python",
   "name": "python",
   "nbconvert_exporter": "python",
   "pygments_lexer": "ipython3",
   "version": "3.5.3"
  }
 },
 "nbformat": 4,
 "nbformat_minor": 0
}
