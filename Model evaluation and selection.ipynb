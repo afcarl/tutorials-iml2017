{
 "cells": [
  {
   "cell_type": "markdown",
   "metadata": {
    "deletable": true,
    "editable": true,
    "nbpresent": {
     "id": "831d2996-6bd3-4ac6-ad8e-c5af5a779946"
    },
    "slideshow": {
     "slide_type": "slide"
    }
   },
   "source": [
    "<center>\n",
    "    <h1>Model evaluation and selection</h1>\n",
    "    <br /><br />\n",
    "    Gilles Louppe (<a href=\"https://twitter.com/glouppe\">@glouppe</a>)\n",
    "    <br /><br />\n",
    "    New York University\n",
    "</center>"
   ]
  },
  {
   "cell_type": "code",
   "execution_count": 1,
   "metadata": {
    "collapsed": false,
    "deletable": true,
    "editable": true,
    "nbpresent": {
     "id": "f288fbf8-56aa-471e-83bf-be241d2f70e2"
    },
    "slideshow": {
     "slide_type": "skip"
    }
   },
   "outputs": [],
   "source": [
    "# Global imports and settings\n",
    "\n",
    "# Matplotlib\n",
    "%matplotlib inline\n",
    "from matplotlib import pyplot as plt\n",
    "plt.rcParams[\"figure.max_open_warning\"] = -1\n",
    "\n",
    "# Print options\n",
    "import numpy as np\n",
    "np.set_printoptions(precision=3)\n",
    "\n",
    "# Slideshow\n",
    "from notebook.services.config import ConfigManager\n",
    "cm = ConfigManager()\n",
    "cm.update('livereveal', {'width': 1440, 'height': 768, 'scroll': True, 'theme': 'simple'})\n",
    "\n",
    "# Silence warnings\n",
    "import warnings\n",
    "warnings.simplefilter(action=\"ignore\", category=FutureWarning)\n",
    "warnings.simplefilter(action=\"ignore\", category=UserWarning)\n",
    "warnings.simplefilter(action=\"ignore\", category=RuntimeWarning)"
   ]
  },
  {
   "cell_type": "code",
   "execution_count": 2,
   "metadata": {
    "collapsed": false,
    "deletable": true,
    "editable": true,
    "nbpresent": {
     "id": "e4efbd8b-8676-4f2a-b126-aa16233fc320"
    },
    "slideshow": {
     "slide_type": "skip"
    }
   },
   "outputs": [
    {
     "data": {
      "application/javascript": [
       "Reveal.addEventListener(\"slidechanged\", function(event){ window.location.hash = \"header\"; });"
      ],
      "text/plain": [
       "<IPython.core.display.Javascript object>"
      ]
     },
     "metadata": {},
     "output_type": "display_data"
    }
   ],
   "source": [
    "%%javascript\n",
    "Reveal.addEventListener(\"slidechanged\", function(event){ window.location.hash = \"header\"; });"
   ]
  },
  {
   "cell_type": "markdown",
   "metadata": {
    "deletable": true,
    "editable": true,
    "nbpresent": {
     "id": "09cec1f7-2537-4c8d-8590-effe609d1372"
    },
    "slideshow": {
     "slide_type": "subslide"
    }
   },
   "source": [
    "# Outline\n",
    "\n",
    "* Model evaluation\n",
    "* Model selection\n",
    "* Selection and evaluation, _simultaneously_"
   ]
  },
  {
   "cell_type": "markdown",
   "metadata": {
    "deletable": true,
    "editable": true,
    "nbpresent": {
     "id": "f7734e76-e199-4686-8ce7-8ee8722a2df0"
    },
    "slideshow": {
     "slide_type": "slide"
    }
   },
   "source": [
    "# Model evaluation"
   ]
  },
  {
   "cell_type": "markdown",
   "metadata": {
    "deletable": true,
    "editable": true,
    "nbpresent": {
     "id": "054437bb-85e5-4e20-9f10-f165c827fad2"
    },
    "slideshow": {
     "slide_type": "subslide"
    }
   },
   "source": [
    "## Evaluation\n",
    "\n",
    "- Recall that we want to learn an estimator $f$ minimizing the generalization error $Err(f) = \\mathbb{E}_{X,Y}[ L(Y, f(X)) ]$.\n",
    "\n",
    "- Problem: Since $P_{X,Y}$ is unknown, the generalization error $Err(f)$ cannot be evaluated.\n",
    "\n",
    "- Solution: Use a proxy to approximate $Err(f)$."
   ]
  },
  {
   "cell_type": "markdown",
   "metadata": {
    "deletable": true,
    "editable": true,
    "nbpresent": {
     "id": "c26f6882-9a83-41e6-806c-b77440bcb166"
    },
    "slideshow": {
     "slide_type": "subslide"
    }
   },
   "source": [
    "## Training error"
   ]
  },
  {
   "cell_type": "code",
   "execution_count": 3,
   "metadata": {
    "collapsed": true,
    "deletable": true,
    "editable": true,
    "nbpresent": {
     "id": "06d70153-0980-45cc-a1b4-8ece91c8ee24"
    }
   },
   "outputs": [],
   "source": [
    "# Generate data\n",
    "from sklearn.datasets import make_blobs\n",
    "X, y = make_blobs(n_samples=1000, centers=20, random_state=123)\n",
    "labels = [\"b\", \"r\"]\n",
    "y = np.take(labels, (y < 10))"
   ]
  },
  {
   "cell_type": "code",
   "execution_count": 4,
   "metadata": {
    "collapsed": false,
    "deletable": true,
    "editable": true,
    "nbpresent": {
     "id": "b67f9d40-0edc-46cd-bfe2-331f2bb6dbef"
    }
   },
   "outputs": [
    {
     "name": "stdout",
     "output_type": "stream",
     "text": [
      "Training error = 0.0\n"
     ]
    }
   ],
   "source": [
    "from sklearn.neighbors import KNeighborsClassifier\n",
    "from sklearn.metrics import zero_one_loss\n",
    "clf = KNeighborsClassifier(n_neighbors=1)\n",
    "clf.fit(X, y)\n",
    "print(\"Training error =\", zero_one_loss(y, clf.predict(X)))"
   ]
  },
  {
   "cell_type": "markdown",
   "metadata": {
    "deletable": true,
    "editable": true,
    "nbpresent": {
     "id": "d9b31e26-fbb5-4507-a404-ce050f406478"
    },
    "slideshow": {
     "slide_type": "subslide"
    }
   },
   "source": [
    "## Test error\n",
    "\n",
    "Issue: the training error is a __biased__ estimate of the generalization error.\n",
    "\n",
    "Solution: Divide ${\\cal L}$ into two disjoint parts called training and test sets (usually using 70% for training and 30% for test).\n",
    "- Use the training set for fitting the model;\n",
    "- Use the test set for evaluation only, thereby yielding an better estimate of the generalization error."
   ]
  },
  {
   "cell_type": "code",
   "execution_count": 5,
   "metadata": {
    "collapsed": false,
    "deletable": true,
    "editable": true,
    "nbpresent": {
     "id": "c9654904-aa3b-417d-b9eb-bf8c6c1f18d5"
    },
    "slideshow": {
     "slide_type": "subslide"
    }
   },
   "outputs": [
    {
     "name": "stdout",
     "output_type": "stream",
     "text": [
      "Training error = 0.1\n",
      "Test error = 0.176\n"
     ]
    }
   ],
   "source": [
    "from sklearn.neighbors import KNeighborsClassifier\n",
    "from sklearn.metrics import zero_one_loss\n",
    "from sklearn.model_selection import train_test_split\n",
    "X_train, X_test, y_train, y_test = train_test_split(X, y)\n",
    "clf = KNeighborsClassifier(n_neighbors=5)\n",
    "clf.fit(X_train, y_train)\n",
    "print(\"Training error =\", zero_one_loss(y_train, clf.predict(X_train)))\n",
    "print(\"Test error =\", zero_one_loss(y_test, clf.predict(X_test)))"
   ]
  },
  {
   "cell_type": "markdown",
   "metadata": {
    "deletable": true,
    "editable": true,
    "nbpresent": {
     "id": "97bfe8ac-0f82-431c-a633-34d0d77a1f37"
    },
    "slideshow": {
     "slide_type": "subslide"
    }
   },
   "source": [
    "Summary: Beware of bias when you estimate model performance:\n",
    "- Training score is often an optimistic estimate of the true performance;\n",
    "- __The same data should not be used both for training and evaluation.__"
   ]
  },
  {
   "cell_type": "markdown",
   "metadata": {
    "deletable": true,
    "editable": true,
    "nbpresent": {
     "id": "29255921-1b2d-4289-94a9-9629cdcffce5"
    },
    "slideshow": {
     "slide_type": "subslide"
    }
   },
   "source": [
    "## Cross-validation"
   ]
  },
  {
   "cell_type": "markdown",
   "metadata": {
    "deletable": true,
    "editable": true,
    "nbpresent": {
     "id": "fa5648a1-863c-49d7-b3e8-e56ed9c82383"
    }
   },
   "source": [
    "Issue: \n",
    "- When ${\\cal L}$ is small, training on 70% of the data may lead to a model that is significantly different from a model that would have been learned on the entire set ${\\cal L}$ (high bias). \n",
    "- Yet, increasing the size of the training set (resp. decreasing the size of the test set), might lead to an inaccurate estimate of the generalization error (high variance). "
   ]
  },
  {
   "cell_type": "markdown",
   "metadata": {
    "deletable": true,
    "editable": true,
    "nbpresent": {
     "id": "ae238457-7dbb-48e9-896a-3d59cb6b7bc8"
    },
    "slideshow": {
     "slide_type": "subslide"
    }
   },
   "source": [
    "Solution: K-Fold cross-validation. \n",
    "- Split ${\\cal L}$ into K small disjoint folds. \n",
    "- Train on K-1 folds, evaluate the test error one the held-out fold.\n",
    "- Repeat for all combinations and average the K estimates of the generalization error.\n",
    "\n",
    "<center><img src=\"img/cross-validation.png\" /></center>"
   ]
  },
  {
   "cell_type": "code",
   "execution_count": 6,
   "metadata": {
    "collapsed": false,
    "deletable": true,
    "editable": true,
    "nbpresent": {
     "id": "04df20f9-f736-42a7-aa8c-3eac7e07fdd3"
    },
    "slideshow": {
     "slide_type": "subslide"
    }
   },
   "outputs": [
    {
     "name": "stdout",
     "output_type": "stream",
     "text": [
      "CV error = 0.163000 +-0.010770\n"
     ]
    }
   ],
   "source": [
    "from sklearn.model_selection import KFold\n",
    "\n",
    "scores = []\n",
    "\n",
    "for train, test in KFold(n_splits=5, random_state=42).split(X):\n",
    "    X_train, y_train = X[train], y[train]\n",
    "    X_test, y_test = X[test], y[test]\n",
    "    clf = KNeighborsClassifier(n_neighbors=5).fit(X_train, y_train)\n",
    "    scores.append(zero_one_loss(y_test, clf.predict(X_test)))\n",
    "\n",
    "print(\"CV error = %f +-%f\" % (np.mean(scores), np.std(scores)))"
   ]
  },
  {
   "cell_type": "code",
   "execution_count": 7,
   "metadata": {
    "collapsed": false,
    "deletable": true,
    "editable": true,
    "nbpresent": {
     "id": "bd764d4b-2cd8-4d48-92d8-e2ec7ed11375"
    },
    "slideshow": {
     "slide_type": "fragment"
    }
   },
   "outputs": [
    {
     "name": "stdout",
     "output_type": "stream",
     "text": [
      "CV error = 0.163000 +-0.010770\n"
     ]
    }
   ],
   "source": [
    "# Shortcut\n",
    "from sklearn.model_selection import cross_val_score\n",
    "scores = cross_val_score(KNeighborsClassifier(n_neighbors=5), X, y, \n",
    "                         cv=KFold(n_splits=5, random_state=42), \n",
    "                         scoring=\"accuracy\")\n",
    "print(\"CV error = %f +-%f\" % (1. - np.mean(scores), np.std(scores)))"
   ]
  },
  {
   "cell_type": "markdown",
   "metadata": {
    "deletable": true,
    "editable": true,
    "slideshow": {
     "slide_type": "subslide"
    }
   },
   "source": [
    "How to chose K?\n",
    "- With K=N, the cross-validation estimator is approximately unbiased for the true (expected) prediction error, but can have high variance because the N training sets are so similar to one another.\n",
    "- On the other hand, when K is too small, cross-validation has lower variance but bias could be a problem, depending on how the learning method varies with the size of the training set. \n",
    "- Overall, 5 or 10-fold cross-validation are often recommended as a good compromise\n",
    "\n",
    "<br />\n",
    "<center><img src=\"img/cv-training-size.png\" /></center>"
   ]
  },
  {
   "cell_type": "markdown",
   "metadata": {
    "deletable": true,
    "editable": true,
    "nbpresent": {
     "id": "a369d914-6fa5-4bf5-a112-d88e938d9be1"
    },
    "slideshow": {
     "slide_type": "subslide"
    }
   },
   "source": [
    "## Wrap up example"
   ]
  },
  {
   "cell_type": "code",
   "execution_count": 8,
   "metadata": {
    "collapsed": false,
    "deletable": true,
    "editable": true,
    "nbpresent": {
     "id": "83136e8c-9621-4075-aacf-d97355fbc431"
    },
    "slideshow": {
     "slide_type": "-"
    }
   },
   "outputs": [],
   "source": [
    "# Generate a random classification problem\n",
    "X = np.random.randn(500, 10000)     # 500 samples, 10000 features\n",
    "y = np.random.randint(2, size=500)\n",
    "\n",
    "# Select 10 most discriminative features\n",
    "from sklearn.feature_selection import SelectKBest\n",
    "from sklearn.feature_selection import f_regression\n",
    "tf = SelectKBest(f_regression, k=10).fit(X, y)\n",
    "Xt = tf.transform(X)"
   ]
  },
  {
   "cell_type": "code",
   "execution_count": 9,
   "metadata": {
    "collapsed": false,
    "deletable": true,
    "editable": true,
    "nbpresent": {
     "id": "04e09e69-d1a8-4e26-98d2-f13b1a7049bf"
    },
    "slideshow": {
     "slide_type": "fragment"
    }
   },
   "outputs": [
    {
     "name": "stdout",
     "output_type": "stream",
     "text": [
      "CV error = 0.308132 +-0.027011\n"
     ]
    }
   ],
   "source": [
    "# Train a classifier and evaluate its CV error\n",
    "from sklearn.linear_model import LogisticRegressionCV\n",
    "from sklearn.model_selection import cross_val_score\n",
    "scores = cross_val_score(LogisticRegressionCV(), Xt, y, cv=5, scoring=\"accuracy\")\n",
    "print(\"CV error = %f +-%f\" % (1. - np.mean(scores), np.std(scores)))"
   ]
  },
  {
   "cell_type": "markdown",
   "metadata": {
    "deletable": true,
    "editable": true,
    "nbpresent": {
     "id": "0847fce1-3919-497d-99c6-b819ad6f94ea"
    },
    "slideshow": {
     "slide_type": "subslide"
    }
   },
   "source": [
    "<center>\n",
    "Wait? We just built a classifier that is better than random, on random data!<br /><br />\n",
    "<img src=\"img/meme.jpg\" />\n",
    "</center>"
   ]
  },
  {
   "cell_type": "markdown",
   "metadata": {
    "deletable": true,
    "editable": true,
    "nbpresent": {
     "id": "3e8da31c-9713-43ef-8847-455966f984a1"
    },
    "slideshow": {
     "slide_type": "subslide"
    }
   },
   "source": [
    "## Wrap up example: the right way\n",
    "\n",
    "What have we done wrong?"
   ]
  },
  {
   "cell_type": "markdown",
   "metadata": {
    "deletable": true,
    "editable": true,
    "nbpresent": {
     "id": "ed42ae81-6926-49d0-a405-032b041ce661"
    },
    "slideshow": {
     "slide_type": "fragment"
    }
   },
   "source": [
    "<center>\n",
    "*The same data should not be used both for training and evaluation.*\n",
    "</center>"
   ]
  },
  {
   "cell_type": "markdown",
   "metadata": {
    "deletable": true,
    "editable": true,
    "nbpresent": {
     "id": "b4d44d04-ea90-4d69-831a-e62b6c5f942d"
    },
    "slideshow": {
     "slide_type": "fragment"
    }
   },
   "source": [
    "We used the full data to select the features we use for training the classifier. This selection is part of the algorithm and should be contained **inside** the cross-validation loop."
   ]
  },
  {
   "cell_type": "code",
   "execution_count": 10,
   "metadata": {
    "collapsed": false,
    "deletable": true,
    "editable": true,
    "nbpresent": {
     "id": "5e607732-d208-45ed-a098-785cc21c08ff"
    },
    "slideshow": {
     "slide_type": "fragment"
    }
   },
   "outputs": [
    {
     "name": "stdout",
     "output_type": "stream",
     "text": [
      "CV error = 0.529861 +-0.027600\n"
     ]
    }
   ],
   "source": [
    "from sklearn.pipeline import make_pipeline\n",
    "clf = make_pipeline(SelectKBest(f_regression, k=10), \n",
    "                    LogisticRegressionCV())\n",
    "scores = cross_val_score(clf, X, y, cv=5, scoring=\"accuracy\")\n",
    "print(\"CV error = %f +-%f\" % (1. - np.mean(scores), np.std(scores)))"
   ]
  },
  {
   "cell_type": "markdown",
   "metadata": {
    "deletable": true,
    "editable": true,
    "nbpresent": {
     "id": "39bd34e5-1053-45b7-812f-9f2d7b43eadf"
    },
    "slideshow": {
     "slide_type": "subslide"
    }
   },
   "source": [
    "## Metrics"
   ]
  },
  {
   "cell_type": "markdown",
   "metadata": {
    "deletable": true,
    "editable": true,
    "nbpresent": {
     "id": "dae982a6-017d-439f-bfa1-531e714eaf86"
    },
    "slideshow": {
     "slide_type": "subslide"
    }
   },
   "source": [
    "### (Classification) Default score\n",
    "\n",
    "Classifiers come built-in with the accuracy as default evaluation score.\n",
    "\n",
    "Definition: The accuracy is the proportion of correct predictions. The closer to 1, the better."
   ]
  },
  {
   "cell_type": "code",
   "execution_count": 11,
   "metadata": {
    "collapsed": false,
    "deletable": true,
    "editable": true,
    "nbpresent": {
     "id": "6c3882ce-af2a-46db-b637-dae8f1842514"
    }
   },
   "outputs": [
    {
     "name": "stdout",
     "output_type": "stream",
     "text": [
      "Default score = 0.86\n"
     ]
    }
   ],
   "source": [
    "# Generate data\n",
    "from sklearn.datasets import make_blobs\n",
    "from sklearn.model_selection import train_test_split\n",
    "X, y = make_blobs(n_samples=1000, centers=20, random_state=123)\n",
    "labels = [\"b\", \"r\"]\n",
    "y = np.take(labels, (y < 10))\n",
    "X_train, X_test, y_train, y_test = train_test_split(X, y)\n",
    "y_train = (y_train == \"r\")\n",
    "y_test = (y_test == \"r\")\n",
    "\n",
    "# Train\n",
    "clf = KNeighborsClassifier(n_neighbors=5)\n",
    "clf.fit(X_train, y_train) \n",
    "print(\"Default score =\", clf.score(X_test, y_test))  "
   ]
  },
  {
   "cell_type": "markdown",
   "metadata": {
    "deletable": true,
    "editable": true,
    "nbpresent": {
     "id": "510b8de5-4bde-47bd-8963-5db390c6754f"
    },
    "slideshow": {
     "slide_type": "subslide"
    }
   },
   "source": [
    "### (Classification)  Precision, recall and F-measure\n",
    "\n",
    "$$Precision = \\frac{TP}{TP + FP}$$\n",
    "$$Recall = \\frac{TP}{TP + FN}$$\n",
    "$$F = \\frac{2 * Precision * Recall}{Precision + Recall}$$"
   ]
  },
  {
   "cell_type": "code",
   "execution_count": 12,
   "metadata": {
    "collapsed": false,
    "deletable": true,
    "editable": true,
    "nbpresent": {
     "id": "d66fd3e5-d03b-4c1f-a4bd-185ecda9bdd4"
    },
    "slideshow": {
     "slide_type": "-"
    }
   },
   "outputs": [
    {
     "name": "stdout",
     "output_type": "stream",
     "text": [
      "Precision = 0.785185185185\n",
      "Recall = 0.946428571429\n",
      "F = 0.858299595142\n"
     ]
    }
   ],
   "source": [
    "from sklearn.metrics import precision_score\n",
    "from sklearn.metrics import recall_score\n",
    "from sklearn.metrics import fbeta_score\n",
    "print(\"Precision =\", precision_score(y_test, clf.predict(X_test)))\n",
    "print(\"Recall =\", recall_score(y_test, clf.predict(X_test)))\n",
    "print(\"F =\", fbeta_score(y_test, clf.predict(X_test), beta=1)) "
   ]
  },
  {
   "cell_type": "markdown",
   "metadata": {
    "deletable": true,
    "editable": true,
    "nbpresent": {
     "id": "90712162-4c42-481e-be4b-c18d789279ba"
    },
    "slideshow": {
     "slide_type": "subslide"
    }
   },
   "source": [
    "### (Classification)  ROC AUC\n",
    "\n",
    "Definition: Area under the curve of the false positive rate (FPR) against the true positive rate (TPR) as the decision threshold of the classifier is varied."
   ]
  },
  {
   "cell_type": "code",
   "execution_count": 13,
   "metadata": {
    "collapsed": false,
    "deletable": true,
    "editable": true,
    "nbpresent": {
     "id": "35ea93b6-274b-46cc-ba98-6de2959f6b81"
    },
    "slideshow": {
     "slide_type": "-"
    }
   },
   "outputs": [
    {
     "name": "stdout",
     "output_type": "stream",
     "text": [
      "ROC AUC = 0.958236283644\n"
     ]
    },
    {
     "data": {
      "image/png": "[encoded data removed]",
      "text/plain": [
       "<matplotlib.figure.Figure at 0x7fd47ad4b390>"
      ]
     },
     "metadata": {},
     "output_type": "display_data"
    }
   ],
   "source": [
    "from sklearn.metrics import get_scorer\n",
    "roc_auc_scorer = get_scorer(\"roc_auc\")\n",
    "print(\"ROC AUC =\", roc_auc_scorer(clf, X_test, y_test))\n",
    "\n",
    "from sklearn.metrics import roc_curve\n",
    "fpr, tpr, thresholds = roc_curve(y_test, clf.predict_proba(X_test)[:, 1])\n",
    "plt.plot(fpr, tpr)\n",
    "plt.xlabel(\"FPR\")\n",
    "plt.ylabel(\"TPR\")\n",
    "plt.show()"
   ]
  },
  {
   "cell_type": "markdown",
   "metadata": {
    "deletable": true,
    "editable": true,
    "nbpresent": {
     "id": "f399097c-3f33-49c4-8f16-20ff08fdfcbd"
    },
    "slideshow": {
     "slide_type": "subslide"
    }
   },
   "source": [
    "### (Classification) Confusion matrix\n",
    "\n",
    "Definition: number of samples of class $i$ predicted as class $j$."
   ]
  },
  {
   "cell_type": "code",
   "execution_count": 14,
   "metadata": {
    "collapsed": false,
    "deletable": true,
    "editable": true,
    "nbpresent": {
     "id": "844556e2-d8bd-4153-bd9b-4a1cceea4b86"
    },
    "slideshow": {
     "slide_type": "-"
    }
   },
   "outputs": [
    {
     "data": {
      "text/plain": [
       "array([[109,  29],\n",
       "       [  6, 106]])"
      ]
     },
     "execution_count": 14,
     "metadata": {},
     "output_type": "execute_result"
    }
   ],
   "source": [
    "from sklearn.metrics import confusion_matrix\n",
    "confusion_matrix(y_test, clf.predict(X_test))"
   ]
  },
  {
   "cell_type": "markdown",
   "metadata": {
    "deletable": true,
    "editable": true,
    "nbpresent": {
     "id": "305c7968-e245-49a7-b3e7-5b000c3d4f7c"
    },
    "slideshow": {
     "slide_type": "subslide"
    }
   },
   "source": [
    "### (Regression) Default score\n",
    "\n",
    "Regressors come built-in with the R2 score as default evaluation score.\n",
    "\n",
    "Definition: The R2 is the coefficient of determination. The closer to 1, the better. Note that the R2 score can be negative."
   ]
  },
  {
   "cell_type": "code",
   "execution_count": 15,
   "metadata": {
    "collapsed": false,
    "deletable": true,
    "editable": true,
    "nbpresent": {
     "id": "66e2fb7f-005c-47ce-b815-cb4185a0dc59"
    }
   },
   "outputs": [
    {
     "name": "stdout",
     "output_type": "stream",
     "text": [
      "Default score = 0.589958548244\n"
     ]
    }
   ],
   "source": [
    "# Generate data\n",
    "from sklearn.datasets import make_regression\n",
    "from sklearn.model_selection import train_test_split\n",
    "X, y = make_regression(n_samples=1000, n_features=20)\n",
    "X_train, X_test, y_train, y_test = train_test_split(X, y)\n",
    "\n",
    "# Train\n",
    "from sklearn.neighbors import KNeighborsRegressor\n",
    "reg = KNeighborsRegressor(n_neighbors=5)\n",
    "reg.fit(X_train, y_train) \n",
    "print(\"Default score =\", reg.score(X_test, y_test))"
   ]
  },
  {
   "cell_type": "markdown",
   "metadata": {
    "deletable": true,
    "editable": true,
    "nbpresent": {
     "id": "6c523f8c-cbae-40c7-bbf4-843a0a9ff657"
    },
    "slideshow": {
     "slide_type": "subslide"
    }
   },
   "source": [
    "### (Regression) Mean squared error\n"
   ]
  },
  {
   "cell_type": "code",
   "execution_count": 16,
   "metadata": {
    "collapsed": false,
    "deletable": true,
    "editable": true,
    "nbpresent": {
     "id": "275a2676-1e18-40b8-9951-e7a5238685b5"
    }
   },
   "outputs": [
    {
     "name": "stdout",
     "output_type": "stream",
     "text": [
      "Mean squared error = 19019.0176638\n"
     ]
    }
   ],
   "source": [
    "from sklearn.metrics import mean_squared_error\n",
    "print(\"Mean squared error =\", mean_squared_error(y_test, reg.predict(X_test)))"
   ]
  },
  {
   "cell_type": "markdown",
   "metadata": {
    "deletable": true,
    "editable": true,
    "nbpresent": {
     "id": "d15def38-2f02-40ee-a91c-e30263237e63"
    },
    "slideshow": {
     "slide_type": "subslide"
    }
   },
   "source": [
    "### (Regression) Mean absolute error"
   ]
  },
  {
   "cell_type": "code",
   "execution_count": 17,
   "metadata": {
    "collapsed": false,
    "deletable": true,
    "editable": true,
    "nbpresent": {
     "id": "cffa9a21-5cd3-4973-9743-9d3bbaade021"
    }
   },
   "outputs": [
    {
     "name": "stdout",
     "output_type": "stream",
     "text": [
      "Mean absolute error = 106.879540242\n"
     ]
    }
   ],
   "source": [
    "from sklearn.metrics import mean_absolute_error\n",
    "print(\"Mean absolute error =\", mean_absolute_error(y_test, reg.predict(X_test)))"
   ]
  },
  {
   "cell_type": "markdown",
   "metadata": {
    "deletable": true,
    "editable": true,
    "nbpresent": {
     "id": "79dd07a8-c38a-4ca6-b316-bdcdea3cd2ea"
    },
    "slideshow": {
     "slide_type": "slide"
    }
   },
   "source": [
    "# Model selection\n",
    " \n",
    "- Finding good hyper-parameters is crucial to control under- and over-fitting, hence achieving better performance.\n",
    "- The estimated generalization error can be used to select the best model."
   ]
  },
  {
   "cell_type": "markdown",
   "metadata": {
    "deletable": true,
    "editable": true,
    "nbpresent": {
     "id": "5be6c833-f037-4072-9cb4-b45bc1909a52"
    },
    "slideshow": {
     "slide_type": "subslide"
    }
   },
   "source": [
    "## Under- and over-fitting\n",
    "\n",
    "- Under-fitting: the model is too simple and does not capture the true relation between X and Y.\n",
    "- Over-fitting: the model is too specific to the training set and does not generalize."
   ]
  },
  {
   "cell_type": "code",
   "execution_count": 18,
   "metadata": {
    "collapsed": true,
    "deletable": true,
    "editable": true,
    "nbpresent": {
     "id": "13c2e8d8-c81a-4744-8770-eb4b1052f8ec"
    },
    "slideshow": {
     "slide_type": "subslide"
    }
   },
   "outputs": [],
   "source": [
    "# Generate data\n",
    "from sklearn.datasets import make_blobs\n",
    "X, y = make_blobs(n_samples=1000, centers=20, random_state=123)\n",
    "labels = [\"b\", \"r\"]\n",
    "y = np.take(labels, (y < 10))"
   ]
  },
  {
   "cell_type": "code",
   "execution_count": 19,
   "metadata": {
    "collapsed": false,
    "deletable": true,
    "editable": true,
    "nbpresent": {
     "id": "d2f91748-d768-4698-a1a0-380f6eed743d"
    },
    "slideshow": {
     "slide_type": "fragment"
    }
   },
   "outputs": [
    {
     "data": {
      "text/plain": [
       "<matplotlib.legend.Legend at 0x7fd47c56a0f0>"
      ]
     },
     "execution_count": 19,
     "metadata": {},
     "output_type": "execute_result"
    },
    {
     "data": {
      "image/png": "[encoded data removed]",
      "text/plain": [
       "<matplotlib.figure.Figure at 0x7fd47b63ec50>"
      ]
     },
     "metadata": {},
     "output_type": "display_data"
    }
   ],
   "source": [
    "from sklearn.model_selection import validation_curve\n",
    "from sklearn.tree import DecisionTreeClassifier\n",
    "\n",
    "# Evaluate parameter range in CV\n",
    "param_range = range(2, 100)\n",
    "param_name = \"max_leaf_nodes\"\n",
    "\n",
    "train_scores, test_scores = validation_curve(\n",
    "    DecisionTreeClassifier(), X, y, \n",
    "    param_name=param_name, \n",
    "    param_range=param_range, cv=10, n_jobs=-1)\n",
    "\n",
    "train_scores_mean = np.mean(train_scores, axis=1)\n",
    "train_scores_std = np.std(train_scores, axis=1)\n",
    "test_scores_mean = np.mean(test_scores, axis=1)\n",
    "test_scores_std = np.std(test_scores, axis=1)\n",
    "\n",
    "# Plot parameter VS estimated error\n",
    "plt.xlabel(param_name)\n",
    "plt.ylabel(\"score\")\n",
    "plt.xlim(min(param_range), max(param_range))\n",
    "plt.plot(param_range, 1. - train_scores_mean, color=\"red\", label=\"Training error\")\n",
    "plt.fill_between(param_range, \n",
    "                 1. - train_scores_mean + train_scores_std,\n",
    "                 1. - train_scores_mean - train_scores_std,\n",
    "                 alpha=0.2, color=\"red\")\n",
    "plt.plot(param_range, 1. - test_scores_mean, color=\"blue\", label=\"CV error\")\n",
    "plt.fill_between(param_range, \n",
    "                 1. - test_scores_mean + test_scores_std,\n",
    "                 1. - test_scores_mean - test_scores_std, \n",
    "                 alpha=0.2, color=\"blue\")\n",
    "plt.ylim(0, 0.4)\n",
    "plt.legend(loc=\"best\")"
   ]
  },
  {
   "cell_type": "code",
   "execution_count": 20,
   "metadata": {
    "collapsed": false,
    "deletable": true,
    "editable": true,
    "nbpresent": {
     "id": "ad8c0402-b2e2-4978-930d-f10da1e2ffd3"
    },
    "slideshow": {
     "slide_type": "subslide"
    }
   },
   "outputs": [
    {
     "name": "stdout",
     "output_type": "stream",
     "text": [
      "max_leaf_nodes = 26, CV error = 0.190000\n"
     ]
    }
   ],
   "source": [
    "# Best trade-off\n",
    "print(\"%s = %d, CV error = %f\" % (param_name,\n",
    "                                  param_range[np.argmax(test_scores_mean)],\n",
    "                                   1. - np.max(test_scores_mean)))"
   ]
  },
  {
   "cell_type": "markdown",
   "metadata": {
    "deletable": true,
    "editable": true,
    "nbpresent": {
     "id": "48940c59-a633-4350-a8c7-54b09e276551"
    },
    "slideshow": {
     "slide_type": "fragment"
    }
   },
   "source": [
    "Question: Where is the model under-fitting and over-fitting?\n",
    "\n",
    "Question: What does it mean if the training error is different from the test error?"
   ]
  },
  {
   "cell_type": "markdown",
   "metadata": {
    "deletable": true,
    "editable": true,
    "nbpresent": {
     "id": "f8f50a05-4eda-40cd-8a10-18427a2f5bca"
    },
    "slideshow": {
     "slide_type": "subslide"
    }
   },
   "source": [
    "## Hyper-parameter search"
   ]
  },
  {
   "cell_type": "code",
   "execution_count": 21,
   "metadata": {
    "collapsed": false,
    "deletable": true,
    "editable": true,
    "nbpresent": {
     "id": "5ae39ef2-4b22-4983-90bb-eb124d619057"
    }
   },
   "outputs": [
    {
     "name": "stdout",
     "output_type": "stream",
     "text": [
      "Best score = 0.131000, Best parameters = {'n_neighbors': 34}\n"
     ]
    }
   ],
   "source": [
    "from sklearn.model_selection import GridSearchCV\n",
    "from sklearn.model_selection import RandomizedSearchCV\n",
    "\n",
    "grid = GridSearchCV(KNeighborsClassifier(),\n",
    "                    param_grid={\"n_neighbors\": list(range(1, 100))},\n",
    "                    scoring=\"accuracy\",\n",
    "                    cv=5, n_jobs=-1)\n",
    "grid.fit(X, y)  # Note that GridSearchCV is itself an estimator\n",
    "\n",
    "print(\"Best score = %f, Best parameters = %s\" % (1. - grid.best_score_, \n",
    "                                                 grid.best_params_))"
   ]
  },
  {
   "cell_type": "markdown",
   "metadata": {
    "deletable": true,
    "editable": true,
    "nbpresent": {
     "id": "1568e305-8014-4b72-bffc-6159a5236747"
    },
    "slideshow": {
     "slide_type": "fragment"
    }
   },
   "source": [
    "Question: Should you report the best score as an estimate of the generalization error of the model?"
   ]
  },
  {
   "cell_type": "markdown",
   "metadata": {
    "deletable": true,
    "editable": true,
    "nbpresent": {
     "id": "ada85920-4c83-4e7f-9e65-9c26caa25a08"
    },
    "slideshow": {
     "slide_type": "subslide"
    }
   },
   "source": [
    "# Selection and evaluation, _simultaneously_\n",
    "\n",
    "- `grid.best_score_` is not independent from the best model, since its construction was guided by the optimization of this quantity. \n",
    "\n",
    "- As a result, the optimized `grid.best_score_` estimate _may_ in fact be a biased, optimistic, estimate of the true performance of the model. \n",
    "\n",
    "- Solution: Use __nested__ cross-validation for correctly selecting the model __and__ correctly evaluating its performance. "
   ]
  },
  {
   "cell_type": "code",
   "execution_count": 22,
   "metadata": {
    "collapsed": false,
    "deletable": true,
    "editable": true,
    "nbpresent": {
     "id": "7bd3f57d-e8ab-49a2-a870-6a066b88d310"
    },
    "slideshow": {
     "slide_type": "subslide"
    }
   },
   "outputs": [
    {
     "name": "stdout",
     "output_type": "stream",
     "text": [
      "0.144000 +-0.023958\n"
     ]
    }
   ],
   "source": [
    "from sklearn.model_selection import cross_val_score\n",
    "from sklearn.model_selection import GridSearchCV\n",
    "\n",
    "scores = cross_val_score(\n",
    "            GridSearchCV(KNeighborsClassifier(),\n",
    "                         param_grid={\"n_neighbors\": list(range(1, 100))},\n",
    "                         scoring=\"accuracy\",\n",
    "                         cv=5, n_jobs=-1), \n",
    "            X, y, cv=5, scoring=\"accuracy\")\n",
    "\n",
    "# Unbiased estimate of the accuracy\n",
    "print(\"%f +-%f\" % (1. - np.mean(scores), np.std(scores)))"
   ]
  },
  {
   "cell_type": "markdown",
   "metadata": {
    "deletable": true,
    "editable": true,
    "nbpresent": {
     "id": "3cabb64b-f073-47cb-959c-6624ea7f6ee0"
    },
    "slideshow": {
     "slide_type": "slide"
    }
   },
   "source": [
    "# Summary\n",
    "\n",
    "- Model evaluation is the problem of quantifying the goodness of a model in expectation over the probability distribution of the data.\n",
    "- Model selection is the problem of selecting the best model.\n",
    "- Model evaluation and selection are often combined, but this should be done with care."
   ]
  },
  {
   "cell_type": "markdown",
   "metadata": {
    "deletable": true,
    "editable": true,
    "nbpresent": {
     "id": "28851650-53f1-4ce9-bf8c-a773fdc652f8"
    },
    "slideshow": {
     "slide_type": "fragment"
    }
   },
   "source": [
    "<center>\n",
    "*The same data should not be used both for training and evaluation.*\n",
    "</center>"
   ]
  },
  {
   "cell_type": "code",
   "execution_count": 23,
   "metadata": {
    "collapsed": false,
    "deletable": true,
    "editable": true,
    "nbpresent": {
     "id": "b7076555-c1fd-4ed1-ac34-c4ca0637dfe2"
    },
    "slideshow": {
     "slide_type": "subslide"
    }
   },
   "outputs": [
    {
     "name": "stdout",
     "output_type": "stream",
     "text": [
      "Object `questions` not found.\n"
     ]
    }
   ],
   "source": [
    "questions?"
   ]
  }
 ],
 "metadata": {
  "anaconda-cloud": {},
  "celltoolbar": "Slideshow",
  "kernelspec": {
   "display_name": "Python [default]",
   "language": "python",
   "name": "python3"
  },
  "language_info": {
   "codemirror_mode": {
    "name": "ipython",
    "version": 3
   },
   "file_extension": ".py",
   "mimetype": "text/x-python",
   "name": "python",
   "nbconvert_exporter": "python",
   "pygments_lexer": "ipython3",
   "version": "3.5.3"
  },
  "nbpresent": {
   "slides": {
    "026c68c0-c089-4951-9977-1c89466274e7": {
     "id": "026c68c0-c089-4951-9977-1c89466274e7",
     "prev": "20f0cd2b-45d9-4929-b67f-471d9a650409",
     "regions": {
      "29d18fee-02d4-45af-a03c-33467eeb6fa3": {
       "attrs": {
        "height": 0.8,
        "width": 0.8,
        "x": 0.1,
        "y": 0.1
       },
       "content": {
        "cell": "c26f6882-9a83-41e6-806c-b77440bcb166",
        "part": "whole"
       },
       "id": "29d18fee-02d4-45af-a03c-33467eeb6fa3"
      },
      "5cbdf674-4957-4167-b90d-e210c8bf11a9": {
       "attrs": {
        "height": 0.4,
        "width": 0.8,
        "x": 0.1,
        "y": 0.5
       },
       "content": {
        "cell": "b67f9d40-0edc-46cd-bfe2-331f2bb6dbef",
        "part": "whole"
       },
       "id": "5cbdf674-4957-4167-b90d-e210c8bf11a9"
      },
      "81602a94-ed70-4242-8e0a-f3739319e3c0": {
       "attrs": {
        "height": 0.4,
        "width": 0.8,
        "x": 0.1,
        "y": 0.5
       },
       "content": {
        "cell": "06d70153-0980-45cc-a1b4-8ece91c8ee24",
        "part": "whole"
       },
       "id": "81602a94-ed70-4242-8e0a-f3739319e3c0"
      }
     }
    },
    "036b9c7b-7ef1-4dda-ad43-728d03cc51eb": {
     "id": "036b9c7b-7ef1-4dda-ad43-728d03cc51eb",
     "prev": "30de382d-c5f6-4e5a-9db8-6c3bbcc7b84b",
     "regions": {
      "1099d0c5-6f56-4386-b032-43b94b2965b8": {
       "attrs": {
        "height": 0.8,
        "width": 0.8,
        "x": 0.1,
        "y": 0.1
       },
       "content": {
        "cell": "305c7968-e245-49a7-b3e7-5b000c3d4f7c",
        "part": "whole"
       },
       "id": "1099d0c5-6f56-4386-b032-43b94b2965b8"
      },
      "c83965a0-e166-42ef-8b78-ad12bc74cbb6": {
       "attrs": {
        "height": 0.4,
        "width": 0.8,
        "x": 0.1,
        "y": 0.5
       },
       "content": {
        "cell": "66e2fb7f-005c-47ce-b815-cb4185a0dc59",
        "part": "whole"
       },
       "id": "c83965a0-e166-42ef-8b78-ad12bc74cbb6"
      }
     }
    },
    "0fdfbd40-71a5-4fb5-8ea4-d035a03c546a": {
     "id": "0fdfbd40-71a5-4fb5-8ea4-d035a03c546a",
     "prev": "14488a54-305e-466e-97da-41a7d1fe1338",
     "regions": {
      "115b24ec-958c-41a1-aee1-41f2933e91eb": {
       "attrs": {
        "height": 0.8,
        "width": 0.8,
        "x": 0.1,
        "y": 0.1
       },
       "content": {
        "cell": "3e8da31c-9713-43ef-8847-455966f984a1",
        "part": "whole"
       },
       "id": "115b24ec-958c-41a1-aee1-41f2933e91eb"
      },
      "2771d838-b752-4034-bacc-315eb91a27be": {
       "attrs": {
        "height": 0.4,
        "width": 0.8,
        "x": 0.1,
        "y": 0.5
       },
       "content": {
        "cell": "ed42ae81-6926-49d0-a405-032b041ce661",
        "part": "whole"
       },
       "id": "2771d838-b752-4034-bacc-315eb91a27be"
      },
      "6838b5e8-db57-43ab-a693-e552c0ef2ee7": {
       "attrs": {
        "height": 0.4,
        "width": 0.8,
        "x": 0.1,
        "y": 0.5
       },
       "content": {
        "cell": "5e607732-d208-45ed-a098-785cc21c08ff",
        "part": "whole"
       },
       "id": "6838b5e8-db57-43ab-a693-e552c0ef2ee7"
      },
      "f1499533-552b-4f6c-b7da-02669755d084": {
       "attrs": {
        "height": 0.4,
        "width": 0.8,
        "x": 0.1,
        "y": 0.5
       },
       "content": {
        "cell": "b4d44d04-ea90-4d69-831a-e62b6c5f942d",
        "part": "whole"
       },
       "id": "f1499533-552b-4f6c-b7da-02669755d084"
      }
     }
    },
    "11cfdb91-378c-4b08-80f4-04b9d3b03dad": {
     "id": "11cfdb91-378c-4b08-80f4-04b9d3b03dad",
     "prev": "636d7fc2-91a7-49b2-b473-6a8772ae65f1",
     "regions": {
      "2594fb01-2701-4db1-85ac-e97912ed76f2": {
       "attrs": {
        "height": 0.4,
        "width": 0.8,
        "x": 0.1,
        "y": 0.5
       },
       "content": {
        "cell": "48940c59-a633-4350-a8c7-54b09e276551",
        "part": "whole"
       },
       "id": "2594fb01-2701-4db1-85ac-e97912ed76f2"
      },
      "6f12f455-10af-47c4-b9e0-4a7e941291c1": {
       "attrs": {
        "height": 0.8,
        "width": 0.8,
        "x": 0.1,
        "y": 0.1
       },
       "content": {
        "cell": "ad8c0402-b2e2-4978-930d-f10da1e2ffd3",
        "part": "whole"
       },
       "id": "6f12f455-10af-47c4-b9e0-4a7e941291c1"
      }
     }
    },
    "14488a54-305e-466e-97da-41a7d1fe1338": {
     "id": "14488a54-305e-466e-97da-41a7d1fe1338",
     "prev": "f3e4d4d1-85e9-4e99-a91f-7269961f6b99",
     "regions": {
      "04cf12eb-64d4-4192-8018-112999deea8f": {
       "attrs": {
        "height": 0.8,
        "width": 0.8,
        "x": 0.1,
        "y": 0.1
       },
       "content": {
        "cell": "0847fce1-3919-497d-99c6-b819ad6f94ea",
        "part": "whole"
       },
       "id": "04cf12eb-64d4-4192-8018-112999deea8f"
      }
     }
    },
    "20f0cd2b-45d9-4929-b67f-471d9a650409": {
     "id": "20f0cd2b-45d9-4929-b67f-471d9a650409",
     "prev": "70f1e46d-d915-4313-9bac-b7dbd2ce088d",
     "regions": {
      "a44b78c2-689c-4419-8fc9-b0c807313665": {
       "attrs": {
        "height": 0.8,
        "width": 0.8,
        "x": 0.1,
        "y": 0.1
       },
       "content": {
        "cell": "054437bb-85e5-4e20-9f10-f165c827fad2",
        "part": "whole"
       },
       "id": "a44b78c2-689c-4419-8fc9-b0c807313665"
      }
     }
    },
    "2789fe1b-03a5-422e-b63f-52a72f0a438a": {
     "id": "2789fe1b-03a5-422e-b63f-52a72f0a438a",
     "prev": "d4a48b74-bc2f-4769-8b99-3a57f1da5c09",
     "regions": {
      "3e4cbdef-8e1a-4869-8228-7e23b8eb4658": {
       "attrs": {
        "height": 0.8,
        "width": 0.8,
        "x": 0.1,
        "y": 0.1
       },
       "content": {
        "cell": "d15def38-2f02-40ee-a91c-e30263237e63",
        "part": "whole"
       },
       "id": "3e4cbdef-8e1a-4869-8228-7e23b8eb4658"
      },
      "bf75a863-044e-49bd-ad04-c9d9d780c655": {
       "attrs": {
        "height": 0.4,
        "width": 0.8,
        "x": 0.1,
        "y": 0.5
       },
       "content": {
        "cell": "cffa9a21-5cd3-4973-9743-9d3bbaade021",
        "part": "whole"
       },
       "id": "bf75a863-044e-49bd-ad04-c9d9d780c655"
      }
     }
    },
    "2c0c240e-f07c-4dc9-8cbd-6c36441c2321": {
     "id": "2c0c240e-f07c-4dc9-8cbd-6c36441c2321",
     "prev": "fc8dfbf3-0f3c-42de-9344-91e0196d8246",
     "regions": {
      "3a0ce4ec-49f5-4e27-8157-270a8f411af6": {
       "attrs": {
        "height": 0.4,
        "width": 0.8,
        "x": 0.1,
        "y": 0.5
       },
       "content": {
        "cell": "bd764d4b-2cd8-4d48-92d8-e2ec7ed11375",
        "part": "whole"
       },
       "id": "3a0ce4ec-49f5-4e27-8157-270a8f411af6"
      },
      "63190a1e-d334-48ba-8744-cb34f28a6001": {
       "attrs": {
        "height": 0.8,
        "width": 0.8,
        "x": 0.1,
        "y": 0.1
       },
       "content": {
        "cell": "04df20f9-f736-42a7-aa8c-3eac7e07fdd3",
        "part": "whole"
       },
       "id": "63190a1e-d334-48ba-8744-cb34f28a6001"
      }
     }
    },
    "30de382d-c5f6-4e5a-9db8-6c3bbcc7b84b": {
     "id": "30de382d-c5f6-4e5a-9db8-6c3bbcc7b84b",
     "prev": "65ab0934-70f9-4179-b092-a34592cd8f90",
     "regions": {
      "489c4814-27fe-4e99-8595-eae8eac73ffd": {
       "attrs": {
        "height": 0.4,
        "width": 0.8,
        "x": 0.1,
        "y": 0.5
       },
       "content": {
        "cell": "844556e2-d8bd-4153-bd9b-4a1cceea4b86",
        "part": "whole"
       },
       "id": "489c4814-27fe-4e99-8595-eae8eac73ffd"
      },
      "6cc879e8-3233-427d-af84-cbad1be4cfb6": {
       "attrs": {
        "height": 0.8,
        "width": 0.8,
        "x": 0.1,
        "y": 0.1
       },
       "content": {
        "cell": "f399097c-3f33-49c4-8f16-20ff08fdfcbd",
        "part": "whole"
       },
       "id": "6cc879e8-3233-427d-af84-cbad1be4cfb6"
      }
     }
    },
    "3e689347-7adc-48f3-9ee1-4ecd939501bf": {
     "id": "3e689347-7adc-48f3-9ee1-4ecd939501bf",
     "prev": null,
     "regions": {
      "8f125f76-a58e-449a-9ad4-aea69eae9376": {
       "attrs": {
        "height": 0.8,
        "width": 0.8,
        "x": 0.1,
        "y": 0.1
       },
       "content": {
        "cell": "831d2996-6bd3-4ac6-ad8e-c5af5a779946",
        "part": "whole"
       },
       "id": "8f125f76-a58e-449a-9ad4-aea69eae9376"
      }
     }
    },
    "499a26d6-9e8c-4b30-afd8-9675798bc055": {
     "id": "499a26d6-9e8c-4b30-afd8-9675798bc055",
     "prev": "9742bfac-d7c2-4059-b520-7fa770c05231",
     "regions": {
      "74886bee-5889-4783-b096-6b35e4c1f34d": {
       "attrs": {
        "height": 0.8,
        "width": 0.8,
        "x": 0.1,
        "y": 0.1
       },
       "content": {
        "cell": "5be6c833-f037-4072-9cb4-b45bc1909a52",
        "part": "whole"
       },
       "id": "74886bee-5889-4783-b096-6b35e4c1f34d"
      }
     }
    },
    "636d7fc2-91a7-49b2-b473-6a8772ae65f1": {
     "id": "636d7fc2-91a7-49b2-b473-6a8772ae65f1",
     "prev": "499a26d6-9e8c-4b30-afd8-9675798bc055",
     "regions": {
      "d42c91c0-4f8b-4712-93bf-9f548b347e8c": {
       "attrs": {
        "height": 0.8,
        "width": 0.8,
        "x": 0.1,
        "y": 0.1
       },
       "content": {
        "cell": "13c2e8d8-c81a-4744-8770-eb4b1052f8ec",
        "part": "whole"
       },
       "id": "d42c91c0-4f8b-4712-93bf-9f548b347e8c"
      },
      "f517aa00-840f-452e-88a1-0f6d49b9d234": {
       "attrs": {
        "height": 0.4,
        "width": 0.8,
        "x": 0.1,
        "y": 0.5
       },
       "content": {
        "cell": "d2f91748-d768-4698-a1a0-380f6eed743d",
        "part": "whole"
       },
       "id": "f517aa00-840f-452e-88a1-0f6d49b9d234"
      }
     }
    },
    "65ab0934-70f9-4179-b092-a34592cd8f90": {
     "id": "65ab0934-70f9-4179-b092-a34592cd8f90",
     "prev": "6a0f3d30-b4c5-4884-ad2a-ef79f6de9ac4",
     "regions": {
      "e01a653e-411b-4381-810b-5998b6edebfb": {
       "attrs": {
        "height": 0.4,
        "width": 0.8,
        "x": 0.1,
        "y": 0.5
       },
       "content": {
        "cell": "35ea93b6-274b-46cc-ba98-6de2959f6b81",
        "part": "whole"
       },
       "id": "e01a653e-411b-4381-810b-5998b6edebfb"
      },
      "f715470d-29e6-48ab-aa0d-014746dafdae": {
       "attrs": {
        "height": 0.8,
        "width": 0.8,
        "x": 0.1,
        "y": 0.1
       },
       "content": {
        "cell": "90712162-4c42-481e-be4b-c18d789279ba",
        "part": "whole"
       },
       "id": "f715470d-29e6-48ab-aa0d-014746dafdae"
      }
     }
    },
    "6a0f3d30-b4c5-4884-ad2a-ef79f6de9ac4": {
     "id": "6a0f3d30-b4c5-4884-ad2a-ef79f6de9ac4",
     "prev": "be04b209-8bdf-4f8b-8b71-58330ea488e7",
     "regions": {
      "40259079-51dd-40b5-8bb8-0b613f194d85": {
       "attrs": {
        "height": 0.4,
        "width": 0.8,
        "x": 0.1,
        "y": 0.5
       },
       "content": {
        "cell": "d66fd3e5-d03b-4c1f-a4bd-185ecda9bdd4",
        "part": "whole"
       },
       "id": "40259079-51dd-40b5-8bb8-0b613f194d85"
      },
      "b84bbccd-224c-4dea-9e17-ceceea556bb5": {
       "attrs": {
        "height": 0.8,
        "width": 0.8,
        "x": 0.1,
        "y": 0.1
       },
       "content": {
        "cell": "510b8de5-4bde-47bd-8963-5db390c6754f",
        "part": "whole"
       },
       "id": "b84bbccd-224c-4dea-9e17-ceceea556bb5"
      }
     }
    },
    "6ad9a0ef-f89d-46c1-abd0-ec887bdaf275": {
     "id": "6ad9a0ef-f89d-46c1-abd0-ec887bdaf275",
     "prev": "c61f7bab-4fde-490c-9ee5-6d36873a6b20",
     "regions": {
      "b112a910-3feb-4712-8874-b7f1d725ed63": {
       "attrs": {
        "height": 0.8,
        "width": 0.8,
        "x": 0.1,
        "y": 0.1
       },
       "content": {
        "cell": "b7076555-c1fd-4ed1-ac34-c4ca0637dfe2",
        "part": "whole"
       },
       "id": "b112a910-3feb-4712-8874-b7f1d725ed63"
      }
     }
    },
    "70f1e46d-d915-4313-9bac-b7dbd2ce088d": {
     "id": "70f1e46d-d915-4313-9bac-b7dbd2ce088d",
     "prev": "8592fe11-2be6-4022-9cba-10aad215ea3a",
     "regions": {
      "2139bf83-d164-4ee8-b28c-43bf48768e8e": {
       "attrs": {
        "height": 0.8,
        "width": 0.8,
        "x": 0.1,
        "y": 0.1
       },
       "content": {
        "cell": "f7734e76-e199-4686-8ce7-8ee8722a2df0",
        "part": "whole"
       },
       "id": "2139bf83-d164-4ee8-b28c-43bf48768e8e"
      }
     }
    },
    "75f242e9-1f5c-46a8-9a2f-4511b5a02bc9": {
     "id": "75f242e9-1f5c-46a8-9a2f-4511b5a02bc9",
     "prev": "0fdfbd40-71a5-4fb5-8ea4-d035a03c546a",
     "regions": {
      "02823aba-5352-4fce-9405-b76f9df2ebd0": {
       "attrs": {
        "height": 0.8,
        "width": 0.8,
        "x": 0.1,
        "y": 0.1
       },
       "content": {
        "cell": "39bd34e5-1053-45b7-812f-9f2d7b43eadf",
        "part": "whole"
       },
       "id": "02823aba-5352-4fce-9405-b76f9df2ebd0"
      }
     }
    },
    "7f1e55a7-20e5-452a-9fc7-6509c01d95b2": {
     "id": "7f1e55a7-20e5-452a-9fc7-6509c01d95b2",
     "prev": "95a3b252-7c1c-4f69-a697-da7c84c92df7",
     "regions": {
      "062e3f97-f0b7-49d3-a1b3-85f929f4f2a7": {
       "attrs": {
        "height": 0.8,
        "width": 0.8,
        "x": 0.1,
        "y": 0.1
       },
       "content": {
        "cell": "c9654904-aa3b-417d-b9eb-bf8c6c1f18d5",
        "part": "whole"
       },
       "id": "062e3f97-f0b7-49d3-a1b3-85f929f4f2a7"
      }
     }
    },
    "7fa8c044-c348-4772-a5cb-5fc7af2f2a25": {
     "id": "7fa8c044-c348-4772-a5cb-5fc7af2f2a25",
     "prev": "9c6402f4-1ae7-4b94-a881-cf7db33d9e46",
     "regions": {
      "42c248d7-6ccb-48d5-b03f-d4892b091336": {
       "attrs": {
        "height": 0.8,
        "width": 0.8,
        "x": 0.1,
        "y": 0.1
       },
       "content": {
        "cell": "ada85920-4c83-4e7f-9e65-9c26caa25a08",
        "part": "whole"
       },
       "id": "42c248d7-6ccb-48d5-b03f-d4892b091336"
      }
     }
    },
    "8592fe11-2be6-4022-9cba-10aad215ea3a": {
     "id": "8592fe11-2be6-4022-9cba-10aad215ea3a",
     "prev": "3e689347-7adc-48f3-9ee1-4ecd939501bf",
     "regions": {
      "2ac60e96-4549-4754-8051-3b773f253c76": {
       "attrs": {
        "height": 0.8,
        "width": 0.8,
        "x": 0.1,
        "y": 0.1
       },
       "content": {
        "cell": "09cec1f7-2537-4c8d-8590-effe609d1372",
        "part": "whole"
       },
       "id": "2ac60e96-4549-4754-8051-3b773f253c76"
      }
     }
    },
    "95a3b252-7c1c-4f69-a697-da7c84c92df7": {
     "id": "95a3b252-7c1c-4f69-a697-da7c84c92df7",
     "prev": "026c68c0-c089-4951-9977-1c89466274e7",
     "regions": {
      "e5931415-1e87-4af8-a412-f91f155f4275": {
       "attrs": {
        "height": 0.8,
        "width": 0.8,
        "x": 0.1,
        "y": 0.1
       },
       "content": {
        "cell": "d9b31e26-fbb5-4507-a404-ce050f406478",
        "part": "whole"
       },
       "id": "e5931415-1e87-4af8-a412-f91f155f4275"
      }
     }
    },
    "9742bfac-d7c2-4059-b520-7fa770c05231": {
     "id": "9742bfac-d7c2-4059-b520-7fa770c05231",
     "prev": "2789fe1b-03a5-422e-b63f-52a72f0a438a",
     "regions": {
      "f00e3f29-ad6d-47e7-a611-815643cbc450": {
       "attrs": {
        "height": 0.8,
        "width": 0.8,
        "x": 0.1,
        "y": 0.1
       },
       "content": {
        "cell": "79dd07a8-c38a-4ca6-b316-bdcdea3cd2ea",
        "part": "whole"
       },
       "id": "f00e3f29-ad6d-47e7-a611-815643cbc450"
      }
     }
    },
    "9c6402f4-1ae7-4b94-a881-cf7db33d9e46": {
     "id": "9c6402f4-1ae7-4b94-a881-cf7db33d9e46",
     "prev": "11cfdb91-378c-4b08-80f4-04b9d3b03dad",
     "regions": {
      "43d34b34-eb65-4e78-9969-30c813dbff42": {
       "attrs": {
        "height": 0.8,
        "width": 0.8,
        "x": 0.1,
        "y": 0.1
       },
       "content": {
        "cell": "f8f50a05-4eda-40cd-8a10-18427a2f5bca",
        "part": "whole"
       },
       "id": "43d34b34-eb65-4e78-9969-30c813dbff42"
      },
      "50b4531a-0c9b-4034-b9b6-9179fad64ecd": {
       "attrs": {
        "height": 0.4,
        "width": 0.8,
        "x": 0.1,
        "y": 0.5
       },
       "content": {
        "cell": "5ae39ef2-4b22-4983-90bb-eb124d619057",
        "part": "whole"
       },
       "id": "50b4531a-0c9b-4034-b9b6-9179fad64ecd"
      },
      "7bb2fb05-adcb-4bf9-b3ba-f20e26f9fc9d": {
       "attrs": {
        "height": 0.4,
        "width": 0.8,
        "x": 0.1,
        "y": 0.5
       },
       "content": {
        "cell": "1568e305-8014-4b72-bffc-6159a5236747",
        "part": "whole"
       },
       "id": "7bb2fb05-adcb-4bf9-b3ba-f20e26f9fc9d"
      }
     }
    },
    "be04b209-8bdf-4f8b-8b71-58330ea488e7": {
     "id": "be04b209-8bdf-4f8b-8b71-58330ea488e7",
     "prev": "75f242e9-1f5c-46a8-9a2f-4511b5a02bc9",
     "regions": {
      "414d462f-1e60-4be1-8780-d16303d8c532": {
       "attrs": {
        "height": 0.4,
        "width": 0.8,
        "x": 0.1,
        "y": 0.5
       },
       "content": {
        "cell": "6c3882ce-af2a-46db-b637-dae8f1842514",
        "part": "whole"
       },
       "id": "414d462f-1e60-4be1-8780-d16303d8c532"
      },
      "8b4d0640-3d63-4d8c-a4fc-94e93602bfb1": {
       "attrs": {
        "height": 0.8,
        "width": 0.8,
        "x": 0.1,
        "y": 0.1
       },
       "content": {
        "cell": "dae982a6-017d-439f-bfa1-531e714eaf86",
        "part": "whole"
       },
       "id": "8b4d0640-3d63-4d8c-a4fc-94e93602bfb1"
      }
     }
    },
    "c61f7bab-4fde-490c-9ee5-6d36873a6b20": {
     "id": "c61f7bab-4fde-490c-9ee5-6d36873a6b20",
     "prev": "c8ad7084-526c-4b68-a87e-2ea5ea463942",
     "regions": {
      "1e9e4ea3-d1e9-447a-8f78-f157c85c1f95": {
       "attrs": {
        "height": 0.8,
        "width": 0.8,
        "x": 0.1,
        "y": 0.1
       },
       "content": {
        "cell": "3cabb64b-f073-47cb-959c-6624ea7f6ee0",
        "part": "whole"
       },
       "id": "1e9e4ea3-d1e9-447a-8f78-f157c85c1f95"
      },
      "9b7a0fa1-86d6-4e6f-b32d-cb361340f879": {
       "attrs": {
        "height": 0.4,
        "width": 0.8,
        "x": 0.1,
        "y": 0.5
       },
       "content": {
        "cell": "28851650-53f1-4ce9-bf8c-a773fdc652f8",
        "part": "whole"
       },
       "id": "9b7a0fa1-86d6-4e6f-b32d-cb361340f879"
      }
     }
    },
    "c8ad7084-526c-4b68-a87e-2ea5ea463942": {
     "id": "c8ad7084-526c-4b68-a87e-2ea5ea463942",
     "prev": "fc297456-899c-4e85-a80a-53b1d0d163f0",
     "regions": {
      "ccde2a15-02e2-4cb3-8d29-a5be032675ff": {
       "attrs": {
        "height": 0.8,
        "width": 0.8,
        "x": 0.1,
        "y": 0.1
       },
       "content": {
        "cell": "62fd1ce6-01c1-480e-9ce5-27d9d05a3a87",
        "part": "whole"
       },
       "id": "ccde2a15-02e2-4cb3-8d29-a5be032675ff"
      }
     }
    },
    "d4a48b74-bc2f-4769-8b99-3a57f1da5c09": {
     "id": "d4a48b74-bc2f-4769-8b99-3a57f1da5c09",
     "prev": "036b9c7b-7ef1-4dda-ad43-728d03cc51eb",
     "regions": {
      "1078888c-1799-4a87-a54d-d32cd041aa58": {
       "attrs": {
        "height": 0.8,
        "width": 0.8,
        "x": 0.1,
        "y": 0.1
       },
       "content": {
        "cell": "6c523f8c-cbae-40c7-bbf4-843a0a9ff657",
        "part": "whole"
       },
       "id": "1078888c-1799-4a87-a54d-d32cd041aa58"
      },
      "5f9bb0fa-57e1-43ec-8b03-8625d5bbd005": {
       "attrs": {
        "height": 0.4,
        "width": 0.8,
        "x": 0.1,
        "y": 0.5
       },
       "content": {
        "cell": "275a2676-1e18-40b8-9951-e7a5238685b5",
        "part": "whole"
       },
       "id": "5f9bb0fa-57e1-43ec-8b03-8625d5bbd005"
      }
     }
    },
    "d8dfead6-ac83-4452-a088-029790f3830e": {
     "id": "d8dfead6-ac83-4452-a088-029790f3830e",
     "prev": "7f1e55a7-20e5-452a-9fc7-6509c01d95b2",
     "regions": {
      "b21f158f-f262-4326-bca7-35a3a858818f": {
       "attrs": {
        "height": 0.8,
        "width": 0.8,
        "x": 0.1,
        "y": 0.1
       },
       "content": {
        "cell": "97bfe8ac-0f82-431c-a633-34d0d77a1f37",
        "part": "whole"
       },
       "id": "b21f158f-f262-4326-bca7-35a3a858818f"
      }
     }
    },
    "da1c5389-f934-4d05-806d-c00294b510eb": {
     "id": "da1c5389-f934-4d05-806d-c00294b510eb",
     "prev": "d8dfead6-ac83-4452-a088-029790f3830e",
     "regions": {
      "04e4a512-0583-4fae-b62c-3b9442fe20db": {
       "attrs": {
        "height": 0.8,
        "width": 0.8,
        "x": 0.1,
        "y": 0.1
       },
       "content": {
        "cell": "29255921-1b2d-4289-94a9-9629cdcffce5",
        "part": "whole"
       },
       "id": "04e4a512-0583-4fae-b62c-3b9442fe20db"
      },
      "41490182-93c1-4f6d-a74c-dbd2e9fdc261": {
       "attrs": {
        "height": 0.4,
        "width": 0.8,
        "x": 0.1,
        "y": 0.5
       },
       "content": {
        "cell": "fa5648a1-863c-49d7-b3e8-e56ed9c82383",
        "part": "whole"
       },
       "id": "41490182-93c1-4f6d-a74c-dbd2e9fdc261"
      }
     }
    },
    "f3e4d4d1-85e9-4e99-a91f-7269961f6b99": {
     "id": "f3e4d4d1-85e9-4e99-a91f-7269961f6b99",
     "prev": "2c0c240e-f07c-4dc9-8cbd-6c36441c2321",
     "regions": {
      "03344253-31e1-422b-a963-4c0364e29748": {
       "attrs": {
        "height": 0.4,
        "width": 0.8,
        "x": 0.1,
        "y": 0.5
       },
       "content": {
        "cell": "04e09e69-d1a8-4e26-98d2-f13b1a7049bf",
        "part": "whole"
       },
       "id": "03344253-31e1-422b-a963-4c0364e29748"
      },
      "9d2b4a88-ef4b-4e3e-8d3f-b854b86793a4": {
       "attrs": {
        "height": 0.8,
        "width": 0.8,
        "x": 0.1,
        "y": 0.1
       },
       "content": {
        "cell": "a369d914-6fa5-4bf5-a112-d88e938d9be1",
        "part": "whole"
       },
       "id": "9d2b4a88-ef4b-4e3e-8d3f-b854b86793a4"
      },
      "a4c9ab2d-2e85-48f8-b03c-3d2557d3cbdf": {
       "attrs": {
        "height": 0.4,
        "width": 0.8,
        "x": 0.1,
        "y": 0.5
       },
       "content": {
        "cell": "83136e8c-9621-4075-aacf-d97355fbc431",
        "part": "whole"
       },
       "id": "a4c9ab2d-2e85-48f8-b03c-3d2557d3cbdf"
      }
     }
    },
    "fc297456-899c-4e85-a80a-53b1d0d163f0": {
     "id": "fc297456-899c-4e85-a80a-53b1d0d163f0",
     "prev": "7fa8c044-c348-4772-a5cb-5fc7af2f2a25",
     "regions": {
      "52c44567-44d6-46bd-84bb-8d187324f806": {
       "attrs": {
        "height": 0.8,
        "width": 0.8,
        "x": 0.1,
        "y": 0.1
       },
       "content": {
        "cell": "7bd3f57d-e8ab-49a2-a870-6a066b88d310",
        "part": "whole"
       },
       "id": "52c44567-44d6-46bd-84bb-8d187324f806"
      }
     }
    },
    "fc8dfbf3-0f3c-42de-9344-91e0196d8246": {
     "id": "fc8dfbf3-0f3c-42de-9344-91e0196d8246",
     "prev": "da1c5389-f934-4d05-806d-c00294b510eb",
     "regions": {
      "4c3f496d-6677-49ab-8c1a-48904f1d4e5a": {
       "attrs": {
        "height": 0.8,
        "width": 0.8,
        "x": 0.1,
        "y": 0.1
       },
       "content": {
        "cell": "ae238457-7dbb-48e9-896a-3d59cb6b7bc8",
        "part": "whole"
       },
       "id": "4c3f496d-6677-49ab-8c1a-48904f1d4e5a"
      }
     }
    }
   },
   "themes": {}
  }
 },
 "nbformat": 4,
 "nbformat_minor": 0
}
